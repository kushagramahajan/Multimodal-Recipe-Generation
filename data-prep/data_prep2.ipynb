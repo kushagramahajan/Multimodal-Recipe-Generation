{
 "cells": [
  {
   "cell_type": "code",
   "execution_count": 28,
   "metadata": {},
   "outputs": [],
   "source": [
    "import json\n",
    "import shutil\n",
    "import os"
   ]
  },
  {
   "cell_type": "code",
   "execution_count": 3,
   "metadata": {},
   "outputs": [],
   "source": [
    "j1 = None\n",
    "with open('res/layer1_val.json', 'r') as f:\n",
    "    j1 = json.load(f)\n"
   ]
  },
  {
   "cell_type": "code",
   "execution_count": 12,
   "metadata": {},
   "outputs": [
    {
     "name": "stdout",
     "output_type": "stream",
     "text": [
      "60422\n"
     ]
    }
   ],
   "source": [
    "j2 = None\n",
    "with open('res/layer2_val.json', 'r') as f:\n",
    "    j2 = json.load(f)\n",
    "print(len(j2))"
   ]
  },
  {
   "cell_type": "code",
   "execution_count": 13,
   "metadata": {},
   "outputs": [
    {
     "data": {
      "text/plain": [
       "{'id': '00029f71f7',\n",
       " 'images': [{'id': '665bbeafc7.jpg',\n",
       "   'url': 'https://img-global.cpcdn.com/001_photo_reports/6008901292523520/0x0/photo.jpg'},\n",
       "  {'id': '87aea5035b.jpg',\n",
       "   'url': 'https://img-global.cpcdn.com/001_photo_reports/4743408963289088/0x0/photo.jpg'}]}"
      ]
     },
     "execution_count": 13,
     "metadata": {},
     "output_type": "execute_result"
    }
   ],
   "source": [
    "j2[0]"
   ]
  },
  {
   "cell_type": "code",
   "execution_count": 30,
   "metadata": {},
   "outputs": [
    {
     "data": {
      "text/plain": [
       "'6/6/5/b'"
      ]
     },
     "execution_count": 30,
     "metadata": {},
     "output_type": "execute_result"
    }
   ],
   "source": [
    "def get_path(id):\n",
    "    return '/'.join(list(id[:4]))\n",
    "get_path(j2[0]['images'][0]['id'])"
   ]
  },
  {
   "cell_type": "code",
   "execution_count": 17,
   "metadata": {},
   "outputs": [],
   "source": [
    "from sklearn.model_selection import train_test_split"
   ]
  },
  {
   "cell_type": "code",
   "execution_count": 18,
   "metadata": {},
   "outputs": [],
   "source": [
    "j1_ids = [item['id'] for item in j1]"
   ]
  },
  {
   "cell_type": "code",
   "execution_count": 19,
   "metadata": {},
   "outputs": [],
   "source": [
    "train_ids, rest = train_test_split(j1_ids, train_size=0.5)\n",
    "val_ids, test_ids = train_test_split(rest, train_size=0.5)"
   ]
  },
  {
   "cell_type": "code",
   "execution_count": 20,
   "metadata": {},
   "outputs": [
    {
     "data": {
      "text/plain": [
       "(77518, 38759, 38759)"
      ]
     },
     "execution_count": 20,
     "metadata": {},
     "output_type": "execute_result"
    }
   ],
   "source": [
    "len(train_ids), len(val_ids), len(test_ids)"
   ]
  },
  {
   "cell_type": "code",
   "execution_count": 22,
   "metadata": {},
   "outputs": [],
   "source": [
    "train_ids = set(train_ids)\n",
    "val_ids = set(val_ids)\n",
    "test_ids = set(test_ids)\n",
    "for item in j1:\n",
    "    partition = ''\n",
    "    if item['id'] in train_ids:\n",
    "        partition = 'train'\n",
    "    elif item['id'] in val_ids:\n",
    "        partition = 'val'\n",
    "    elif item['id'] in test_ids:\n",
    "        partition = 'test'\n",
    "    else:\n",
    "        print(item['id'], 'skipped')\n",
    "    item['partition'] = partition\n",
    "with open('res/layer1_splitted_val.json', 'w') as f:\n",
    "    json.dump(j1, f)"
   ]
  },
  {
   "cell_type": "code",
   "execution_count": 27,
   "metadata": {},
   "outputs": [
    {
     "data": {
      "text/plain": [
       "{'id': '00029f71f7',\n",
       " 'images': [{'id': '665bbeafc7.jpg',\n",
       "   'url': 'https://img-global.cpcdn.com/001_photo_reports/6008901292523520/0x0/photo.jpg'},\n",
       "  {'id': '87aea5035b.jpg',\n",
       "   'url': 'https://img-global.cpcdn.com/001_photo_reports/4743408963289088/0x0/photo.jpg'}]}"
      ]
     },
     "execution_count": 27,
     "metadata": {},
     "output_type": "execute_result"
    }
   ],
   "source": [
    "j2[0]"
   ]
  },
  {
   "cell_type": "code",
   "execution_count": 31,
   "metadata": {},
   "outputs": [
    {
     "ename": "FileNotFoundError",
     "evalue": "[Errno 2] No such file or directory: 'res/data/images/val/6/6/5/b'",
     "output_type": "error",
     "traceback": [
      "\u001b[0;31m---------------------------------------------------------------------------\u001b[0m",
      "\u001b[0;31mFileNotFoundError\u001b[0m                         Traceback (most recent call last)",
      "Cell \u001b[0;32mIn [31], line 19\u001b[0m\n\u001b[1;32m     17\u001b[0m \u001b[39mif\u001b[39;00m os\u001b[39m.\u001b[39mpath\u001b[39m.\u001b[39misfile(img_path):\n\u001b[1;32m     18\u001b[0m     \u001b[39mif\u001b[39;00m \u001b[39mnot\u001b[39;00m os\u001b[39m.\u001b[39mpath\u001b[39m.\u001b[39misdir(target_path):\n\u001b[0;32m---> 19\u001b[0m         os\u001b[39m.\u001b[39mmkdir(target_path)\n\u001b[1;32m     20\u001b[0m     shutil\u001b[39m.\u001b[39mmove(img_path, os\u001b[39m.\u001b[39mpath\u001b[39m.\u001b[39mjoin(target_path, img[\u001b[39m'\u001b[39m\u001b[39mid\u001b[39m\u001b[39m'\u001b[39m]))\n",
      "\u001b[0;31mFileNotFoundError\u001b[0m: [Errno 2] No such file or directory: 'res/data/images/val/6/6/5/b'"
     ]
    }
   ],
   "source": [
    "for item in j2:\n",
    "    partition = ''\n",
    "    if item['id'] in train_ids:\n",
    "        partition = 'train'\n",
    "    elif item['id'] in val_ids:\n",
    "        partition = 'val'\n",
    "    elif item['id'] in test_ids:\n",
    "        partition = 'test'\n",
    "    else:\n",
    "        print(item['id'], 'skipped')\n",
    "        continue\n",
    "    for img in item['images']:\n",
    "        suffix = get_path(img['id'])\n",
    "        img_dir = os.path.join('res', 'val', suffix)\n",
    "        img_path = os.path.join(img_dir, img['id'])\n",
    "        target_path = os.path.join('res', 'data', 'images', partition, suffix)\n",
    "        if os.path.isfile(img_path):\n",
    "            if not os.path.isdir(target_path):\n",
    "                os.makedirs(target_path)\n",
    "            shutil.move(img_path, os.path.join(target_path, img['id']))\n",
    "    "
   ]
  }
 ],
 "metadata": {
  "kernelspec": {
   "display_name": "Python 3.9.13 ('pytorch')",
   "language": "python",
   "name": "python3"
  },
  "language_info": {
   "codemirror_mode": {
    "name": "ipython",
    "version": 3
   },
   "file_extension": ".py",
   "mimetype": "text/x-python",
   "name": "python",
   "nbconvert_exporter": "python",
   "pygments_lexer": "ipython3",
   "version": "3.9.13"
  },
  "orig_nbformat": 4,
  "vscode": {
   "interpreter": {
    "hash": "2d58e898dde0263bc564c6968b04150abacfd33eed9b19aaa8e45c040360e146"
   }
  }
 },
 "nbformat": 4,
 "nbformat_minor": 2
}
