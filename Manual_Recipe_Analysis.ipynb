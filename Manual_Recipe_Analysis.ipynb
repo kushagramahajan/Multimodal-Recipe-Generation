{
  "nbformat": 4,
  "nbformat_minor": 0,
  "metadata": {
    "colab": {
      "provenance": []
    },
    "kernelspec": {
      "name": "python3",
      "display_name": "Python 3"
    },
    "language_info": {
      "name": "python"
    }
  },
  "cells": [
    {
      "cell_type": "code",
      "source": [
        "import json\n",
        "  \n",
        "# Opening JSON file\n",
        "layer1 = open('/content/drive/MyDrive/11777/layer1.json')\n",
        "layer2 = open('/content/drive/MyDrive/11777/layer2.json')\n",
        "layer1_j=json.load(layer1)\n",
        "layer2_j=json.load(layer2)"
      ],
      "metadata": {
        "id": "GAH1XB6b4pCP"
      },
      "execution_count": null,
      "outputs": []
    },
    {
      "cell_type": "code",
      "source": [
        "layer1_j[0]"
      ],
      "metadata": {
        "colab": {
          "base_uri": "https://localhost:8080/"
        },
        "id": "F9NbpfbD6ehs",
        "outputId": "61b0296e-b164-4c39-c436-3b5f1f41d7ea"
      },
      "execution_count": null,
      "outputs": [
        {
          "output_type": "execute_result",
          "data": {
            "text/plain": [
              "{'ingredients': [{'text': '6 ounces penne'},\n",
              "  {'text': '2 cups Beechers Flagship Cheese Sauce (recipe follows)'},\n",
              "  {'text': '1 ounce Cheddar, grated (1/4 cup)'},\n",
              "  {'text': '1 ounce Gruyere cheese, grated (1/4 cup)'},\n",
              "  {'text': '1/4 to 1/2 teaspoon chipotle chili powder (see Note)'},\n",
              "  {'text': '1/4 cup (1/2 stick) unsalted butter'},\n",
              "  {'text': '1/3 cup all-purpose flour'},\n",
              "  {'text': '3 cups milk'},\n",
              "  {'text': '14 ounces semihard cheese (page 23), grated (about 3 1/2 cups)'},\n",
              "  {'text': '2 ounces semisoft cheese (page 23), grated (1/2 cup)'},\n",
              "  {'text': '1/2 teaspoon kosher salt'},\n",
              "  {'text': '1/4 to 1/2 teaspoon chipotle chili powder'},\n",
              "  {'text': '1/8 teaspoon garlic powder'},\n",
              "  {'text': '(makes about 4 cups)'}],\n",
              " 'url': 'http://www.epicurious.com/recipes/food/views/-world-s-best-mac-and-cheese-387747',\n",
              " 'partition': 'train',\n",
              " 'title': 'Worlds Best Mac and Cheese',\n",
              " 'id': '000018c8a5',\n",
              " 'instructions': [{'text': 'Preheat the oven to 350 F. Butter or oil an 8-inch baking dish.'},\n",
              "  {'text': 'Cook the penne 2 minutes less than package directions.'},\n",
              "  {'text': '(It will finish cooking in the oven.)'},\n",
              "  {'text': 'Rinse the pasta in cold water and set aside.'},\n",
              "  {'text': 'Combine the cooked pasta and the sauce in a medium bowl and mix carefully but thoroughly.'},\n",
              "  {'text': 'Scrape the pasta into the prepared baking dish.'},\n",
              "  {'text': 'Sprinkle the top with the cheeses and then the chili powder.'},\n",
              "  {'text': 'Bake, uncovered, for 20 minutes.'},\n",
              "  {'text': 'Let the mac and cheese sit for 5 minutes before serving.'},\n",
              "  {'text': 'Melt the butter in a heavy-bottomed saucepan over medium heat and whisk in the flour.'},\n",
              "  {'text': 'Continue whisking and cooking for 2 minutes.'},\n",
              "  {'text': 'Slowly add the milk, whisking constantly.'},\n",
              "  {'text': 'Cook until the sauce thickens, about 10 minutes, stirring frequently.'},\n",
              "  {'text': 'Remove from the heat.'},\n",
              "  {'text': 'Add the cheeses, salt, chili powder, and garlic powder.'},\n",
              "  {'text': 'Stir until the cheese is melted and all ingredients are incorporated, about 3 minutes.'},\n",
              "  {'text': 'Use immediately, or refrigerate for up to 3 days.'},\n",
              "  {'text': 'This sauce reheats nicely on the stove in a saucepan over low heat.'},\n",
              "  {'text': 'Stir frequently so the sauce doesnt scorch.'},\n",
              "  {'text': 'This recipe can be assembled before baking and frozen for up to 3 monthsjust be sure to use a freezer-to-oven pan and increase the baking time to 50 minutes.'},\n",
              "  {'text': 'One-half teaspoon of chipotle chili powder makes a spicy mac, so make sure your family and friends can handle it!'},\n",
              "  {'text': 'The proportion of pasta to cheese sauce is crucial to the success of the dish.'},\n",
              "  {'text': 'It will look like a lot of sauce for the pasta, but some of the liquid will be absorbed.'}]}"
            ]
          },
          "metadata": {},
          "execution_count": 7
        }
      ]
    },
    {
      "cell_type": "code",
      "source": [
        "layer2_j[0]"
      ],
      "metadata": {
        "colab": {
          "base_uri": "https://localhost:8080/"
        },
        "id": "MykRm6Sc6jI6",
        "outputId": "9ec8241a-9f99-4186-cbf4-a4bd72d41cc6"
      },
      "execution_count": null,
      "outputs": [
        {
          "output_type": "execute_result",
          "data": {
            "text/plain": [
              "{'id': '00003a70b1',\n",
              " 'images': [{'id': '3e233001e2.jpg',\n",
              "   'url': 'http://img.sndimg.com/food/image/upload/w_512,h_512,c_fit,fl_progressive,q_95/v1/img/recipes/47/91/49/picaYYmb9.jpg'},\n",
              "  {'id': '7f749987f9.jpg',\n",
              "   'url': 'http://img.sndimg.com/food/image/upload/w_512,h_512,c_fit,fl_progressive,q_95/v1/img/recipes/47/91/49/picpy37SW.jpg'},\n",
              "  {'id': 'aaf6b2dcd3.jpg',\n",
              "   'url': 'http://img.sndimg.com/food/image/upload/w_512,h_512,c_fit,fl_progressive,q_95/v1/img/recipes/47/91/49/picX9CNE2.jpg'}]}"
            ]
          },
          "metadata": {},
          "execution_count": 8
        }
      ]
    },
    {
      "cell_type": "code",
      "source": [
        "import nltk\n",
        "from nltk.translate.bleu_score import sentence_bleu"
      ],
      "metadata": {
        "id": "hvGhw8BaAnHa"
      },
      "execution_count": 30,
      "outputs": []
    },
    {
      "cell_type": "code",
      "source": [],
      "metadata": {
        "id": "Z7XqnqtE5yeI"
      },
      "execution_count": null,
      "outputs": []
    },
    {
      "cell_type": "code",
      "source": [
        "images=['68df2fc142.jpg', '63de829e6c.jpg', 'f59d0e69db.jpg', '87cd378a41.jpg', '934da5a455.jpg', '73ef600000.jpg','995e7b9920.jpg', '75b65dfcf4.jpg', 'a702563926.jpg', '1db398fc53.jpg', 'f7da1e9521.jpg', '9db77658ed.jpg','2478e0c174.jpg', '74a1559c92.jpg', '7673c466bc.jpg', '0c0f50700f.jpg', 'e7b2c37c85.jpg', '4d05bd5790.jpg', '5735ac707c.jpg', 'c68cea19b5.jpg', 'eeb173fbde.jpg', '17e5ced833.jpg', 'b5be0b054a.jpg', '356c7802c1.jpg', '43a9c3da7e.jpg', '0e8bec249f.jpg', 'e7e10e66d8.jpg', 'd38ed00f48.jpg', 'c6b596c074.jpg', 'a865e07984.jpg']\n"
      ],
      "metadata": {
        "id": "pK4uf6Cc5v_v"
      },
      "execution_count": null,
      "outputs": []
    },
    {
      "cell_type": "code",
      "source": [
        "b=(1,2)"
      ],
      "metadata": {
        "id": "8FrUSg2J8p4K"
      },
      "execution_count": null,
      "outputs": []
    },
    {
      "cell_type": "code",
      "source": [
        "b[1]"
      ],
      "metadata": {
        "colab": {
          "base_uri": "https://localhost:8080/"
        },
        "id": "_T69gxDU8rpV",
        "outputId": "a28293fe-e20c-40fb-dde2-cb8f63d3579d"
      },
      "execution_count": null,
      "outputs": [
        {
          "output_type": "execute_result",
          "data": {
            "text/plain": [
              "2"
            ]
          },
          "metadata": {},
          "execution_count": 13
        }
      ]
    },
    {
      "cell_type": "code",
      "source": [
        "count=0\n",
        "ids=[]\n",
        "for i in range (0, len(layer2_j)):\n",
        "    for j in range (0,len(layer2_j[i]['images'])):\n",
        "        if((layer2_j[i]['images'][j]['id'] in images) and count<31):\n",
        "            ids.append((layer2_j[i]['images'][j]['id'],layer2_j[i]['id']))\n",
        "            count=count+1\n",
        "            print(count)"
      ],
      "metadata": {
        "colab": {
          "base_uri": "https://localhost:8080/"
        },
        "id": "P8VNkbIy67yO",
        "outputId": "5892bb72-55df-4f88-c5dd-31961fadeb01"
      },
      "execution_count": null,
      "outputs": [
        {
          "output_type": "stream",
          "name": "stdout",
          "text": [
            "1\n",
            "2\n",
            "3\n",
            "4\n",
            "5\n",
            "6\n",
            "7\n",
            "8\n",
            "9\n",
            "10\n",
            "11\n",
            "12\n",
            "13\n",
            "14\n",
            "15\n",
            "16\n",
            "17\n",
            "18\n",
            "19\n",
            "20\n",
            "21\n",
            "22\n",
            "23\n",
            "24\n",
            "25\n",
            "26\n",
            "27\n",
            "28\n",
            "29\n",
            "30\n"
          ]
        }
      ]
    },
    {
      "cell_type": "code",
      "source": [
        "ids"
      ],
      "metadata": {
        "colab": {
          "base_uri": "https://localhost:8080/"
        },
        "id": "Xxcs7Xnk9Ba1",
        "outputId": "67b6a8bc-edbc-4b26-f333-82ec43a34452"
      },
      "execution_count": null,
      "outputs": [
        {
          "output_type": "execute_result",
          "data": {
            "text/plain": [
              "[('f7da1e9521.jpg', '14bd875cfb'),\n",
              " ('934da5a455.jpg', '21ff5633b8'),\n",
              " ('9db77658ed.jpg', '24e1eefd56'),\n",
              " ('75b65dfcf4.jpg', '279505ac2f'),\n",
              " ('995e7b9920.jpg', '2afa8bd53b'),\n",
              " ('d38ed00f48.jpg', '347cb10749'),\n",
              " ('a702563926.jpg', '3e990f3a7a'),\n",
              " ('f59d0e69db.jpg', '44c216af9d'),\n",
              " ('73ef600000.jpg', '49147226ba'),\n",
              " ('4d05bd5790.jpg', '4d07abbe2f'),\n",
              " ('2478e0c174.jpg', '4df1ff3ff6'),\n",
              " ('74a1559c92.jpg', '4e563f0501'),\n",
              " ('0e8bec249f.jpg', '571418c9c8'),\n",
              " ('7673c466bc.jpg', '6bd669328e'),\n",
              " ('a865e07984.jpg', '706c3410ba'),\n",
              " ('17e5ced833.jpg', '74a2b7e519'),\n",
              " ('1db398fc53.jpg', '76567b098d'),\n",
              " ('c68cea19b5.jpg', '89ef157399'),\n",
              " ('63de829e6c.jpg', '943173668f'),\n",
              " ('eeb173fbde.jpg', 'a490a1e49a'),\n",
              " ('0c0f50700f.jpg', 'b25eb770ca'),\n",
              " ('356c7802c1.jpg', 'bc4e155cb8'),\n",
              " ('68df2fc142.jpg', 'bcb3bc5c32'),\n",
              " ('e7e10e66d8.jpg', 'cb60ddfdec'),\n",
              " ('e7b2c37c85.jpg', 'cfc31aafbd'),\n",
              " ('b5be0b054a.jpg', 'dc23a08859'),\n",
              " ('5735ac707c.jpg', 'e7e0719e6f'),\n",
              " ('43a9c3da7e.jpg', 'eb8a2404b9'),\n",
              " ('c6b596c074.jpg', 'ef90641a17'),\n",
              " ('87cd378a41.jpg', 'fe35f60544')]"
            ]
          },
          "metadata": {},
          "execution_count": 17
        }
      ]
    },
    {
      "cell_type": "code",
      "source": [
        "with open('manual_ids.txt', 'w') as fp:\n",
        "    for item in ids:\n",
        "        # write each item on a new line\n",
        "        fp.write(\"%s\\n\" % item)\n",
        "    print('Done')"
      ],
      "metadata": {
        "colab": {
          "base_uri": "https://localhost:8080/",
          "height": 222
        },
        "id": "648TzNbWCZFu",
        "outputId": "9c559149-76ce-4ae3-856a-5ac30ff3606c"
      },
      "execution_count": null,
      "outputs": [
        {
          "output_type": "error",
          "ename": "TypeError",
          "evalue": "ignored",
          "traceback": [
            "\u001b[0;31m---------------------------------------------------------------------------\u001b[0m",
            "\u001b[0;31mTypeError\u001b[0m                                 Traceback (most recent call last)",
            "\u001b[0;32m<ipython-input-29-b26cc399777e>\u001b[0m in \u001b[0;36m<module>\u001b[0;34m\u001b[0m\n\u001b[1;32m      2\u001b[0m     \u001b[0;32mfor\u001b[0m \u001b[0mitem\u001b[0m \u001b[0;32min\u001b[0m \u001b[0mids\u001b[0m\u001b[0;34m:\u001b[0m\u001b[0;34m\u001b[0m\u001b[0;34m\u001b[0m\u001b[0m\n\u001b[1;32m      3\u001b[0m         \u001b[0;31m# write each item on a new line\u001b[0m\u001b[0;34m\u001b[0m\u001b[0;34m\u001b[0m\u001b[0;34m\u001b[0m\u001b[0m\n\u001b[0;32m----> 4\u001b[0;31m         \u001b[0mfp\u001b[0m\u001b[0;34m.\u001b[0m\u001b[0mwrite\u001b[0m\u001b[0;34m(\u001b[0m\u001b[0;34m\"%s\\n\"\u001b[0m \u001b[0;34m%\u001b[0m \u001b[0mitem\u001b[0m\u001b[0;34m)\u001b[0m\u001b[0;34m\u001b[0m\u001b[0;34m\u001b[0m\u001b[0m\n\u001b[0m\u001b[1;32m      5\u001b[0m     \u001b[0mprint\u001b[0m\u001b[0;34m(\u001b[0m\u001b[0;34m'Done'\u001b[0m\u001b[0;34m)\u001b[0m\u001b[0;34m\u001b[0m\u001b[0;34m\u001b[0m\u001b[0m\n",
            "\u001b[0;31mTypeError\u001b[0m: not all arguments converted during string formatting"
          ]
        }
      ]
    },
    {
      "cell_type": "code",
      "source": [
        "b=set()\n",
        "for i in range(0,30):\n",
        "    b.add(ids[i][1])"
      ],
      "metadata": {
        "id": "MvpJcoVE-l5U"
      },
      "execution_count": null,
      "outputs": []
    },
    {
      "cell_type": "code",
      "source": [
        "len(b)"
      ],
      "metadata": {
        "colab": {
          "base_uri": "https://localhost:8080/"
        },
        "id": "gV5gayG3-zRT",
        "outputId": "70aa1e7b-cd5f-4078-9900-93b754f61767"
      },
      "execution_count": null,
      "outputs": [
        {
          "output_type": "execute_result",
          "data": {
            "text/plain": [
              "30"
            ]
          },
          "metadata": {},
          "execution_count": 20
        }
      ]
    },
    {
      "cell_type": "code",
      "source": [
        "count=0\n",
        "recipes=[]\n",
        "ingredients=[]\n",
        "for i in range (0, len(layer1_j)):\n",
        "    if((layer1_j[i]['id'] in b) and count<31):\n",
        "        count=count+1\n",
        "        dummy1=[]\n",
        "        dummy2=[]\n",
        "        for j in range(0,len(layer1_j[i]['instructions'])):\n",
        "            dummy1.append(layer1_j[i]['instructions'][j]['text'])\n",
        "        for j in range(0,len(layer1_j[i]['ingredients'])):\n",
        "            dummy2.append(layer1_j[i]['ingredients'][j]['text'])\n",
        "        recipes.append([layer1_j[i]['id'],dummy1])\n",
        "        ingredients.append([layer1_j[i]['id'],dummy2])"
      ],
      "metadata": {
        "id": "kHZZm4u89A1W"
      },
      "execution_count": null,
      "outputs": []
    },
    {
      "cell_type": "code",
      "source": [
        "with open('manual_recipes.txt', 'w') as fp:\n",
        "    for item in recipes:\n",
        "        # write each item on a new line\n",
        "        fp.write(\"%s\\n\" % item)\n",
        "    print('Done')"
      ],
      "metadata": {
        "colab": {
          "base_uri": "https://localhost:8080/"
        },
        "id": "ll6j98DVCtrs",
        "outputId": "ca69f7a8-d7e7-4ede-af00-5e9c08b8e9e8"
      },
      "execution_count": null,
      "outputs": [
        {
          "output_type": "stream",
          "name": "stdout",
          "text": [
            "Done\n"
          ]
        }
      ]
    },
    {
      "cell_type": "code",
      "source": [
        "with open('manual_ingredients.txt', 'w') as fp:\n",
        "    for item in ingredients:\n",
        "        # write each item on a new line\n",
        "        fp.write(\"%s\\n\" % item)\n",
        "    print('Done')"
      ],
      "metadata": {
        "colab": {
          "base_uri": "https://localhost:8080/"
        },
        "id": "2QFojfxZC_PH",
        "outputId": "34d917c3-a1d4-46b4-d564-fe5dd1cd7ace"
      },
      "execution_count": null,
      "outputs": [
        {
          "output_type": "stream",
          "name": "stdout",
          "text": [
            "Done\n"
          ]
        }
      ]
    },
    {
      "cell_type": "code",
      "source": [
        "ingredients[1][1]"
      ],
      "metadata": {
        "colab": {
          "base_uri": "https://localhost:8080/"
        },
        "id": "aHzIIA0cBZpU",
        "outputId": "49abe0de-0e41-4170-ea57-e4371fbcb584"
      },
      "execution_count": null,
      "outputs": [
        {
          "output_type": "execute_result",
          "data": {
            "text/plain": [
              "['2 eggs', '1 banana (ripe)', 'cooking spray, for pan']"
            ]
          },
          "metadata": {},
          "execution_count": 28
        }
      ]
    },
    {
      "cell_type": "code",
      "source": [
        "a=set()"
      ],
      "metadata": {
        "id": "nkZHYrhR5-_z"
      },
      "execution_count": null,
      "outputs": []
    },
    {
      "cell_type": "code",
      "source": [
        "for i in range (0,len(images)):\n",
        "    a.add(images[i])"
      ],
      "metadata": {
        "id": "Un9Dz9z66Dpp"
      },
      "execution_count": null,
      "outputs": []
    },
    {
      "cell_type": "code",
      "source": [
        "len(a)"
      ],
      "metadata": {
        "colab": {
          "base_uri": "https://localhost:8080/"
        },
        "id": "qqzXSv5m6XVv",
        "outputId": "fbfedc23-1cfa-4448-ceba-8839355e3c92"
      },
      "execution_count": null,
      "outputs": [
        {
          "output_type": "execute_result",
          "data": {
            "text/plain": [
              "30"
            ]
          },
          "metadata": {},
          "execution_count": 5
        }
      ]
    },
    {
      "cell_type": "code",
      "source": [
        "for i in range(0,30):\n",
        "    print()"
      ],
      "metadata": {
        "id": "urzmqZa56YvB"
      },
      "execution_count": null,
      "outputs": []
    },
    {
      "cell_type": "code",
      "source": [
        "reference = [['this', 'is', 'a', 'test']]\n",
        "candidate = ['this', 'is', 'a','test','for','ypu']\n",
        "score = sentence_bleu(reference, candidate)\n",
        "print(score)"
      ],
      "metadata": {
        "colab": {
          "base_uri": "https://localhost:8080/"
        },
        "id": "J6RamlzXAoFh",
        "outputId": "89609817-886b-4e4d-9dfb-e03927bc4d42"
      },
      "execution_count": null,
      "outputs": [
        {
          "output_type": "stream",
          "name": "stdout",
          "text": [
            "0.5081327481546147\n"
          ]
        }
      ]
    },
    {
      "cell_type": "code",
      "source": [
        "print(ingredients[2])"
      ],
      "metadata": {
        "colab": {
          "base_uri": "https://localhost:8080/"
        },
        "id": "yM5-ke55Ily0",
        "outputId": "40c4d46e-63f7-4e94-885c-0696bf6aca9c"
      },
      "execution_count": null,
      "outputs": [
        {
          "output_type": "stream",
          "name": "stdout",
          "text": [
            "['24e1eefd56', ['1 (12 ounce) package poundcake, quartered', '6 tablespoons unsalted butter, melted', '12 cup sliced almonds', '1 12 teaspoons pumpkin pie spice, divided', '5 rome apples, peeled, cored and thinly sliced', '2 (4 1/2 ounce) packages fresh blueberries, rinsed', '12 cup packed light brown sugar', '2 tablespoons cold unsalted butter, cut up', 'vanilla ice cream, for serving (optional)']]\n"
          ]
        }
      ]
    },
    {
      "cell_type": "code",
      "source": [
        "for i in range(0,30):\n",
        "    print(ids[i][0],ingredients[i][1])"
      ],
      "metadata": {
        "colab": {
          "base_uri": "https://localhost:8080/"
        },
        "id": "5rFOZXWSI7aX",
        "outputId": "3d3b6b33-c3af-483d-87f4-0e44827d34e1"
      },
      "execution_count": null,
      "outputs": [
        {
          "output_type": "stream",
          "name": "stdout",
          "text": [
            "f7da1e9521.jpg ['1 cup all-purpose flour', '1 teaspoon baking powder', '1/2 teaspoon salt', '1/4 teaspoon garlic powder', '1/4 cup butter, softened', '3 eggs, beaten', '1/4 cup minced onion', '1/4 cup diced green bell pepper', '1/4 cup diced sweet red bell pepper', '1 cup grated sharp Cheddar cheese', '1 cup mushrooms, chopped']\n",
            "934da5a455.jpg ['2 eggs', '1 banana (ripe)', 'cooking spray, for pan']\n",
            "9db77658ed.jpg ['1 (12 ounce) package poundcake, quartered', '6 tablespoons unsalted butter, melted', '12 cup sliced almonds', '1 12 teaspoons pumpkin pie spice, divided', '5 rome apples, peeled, cored and thinly sliced', '2 (4 1/2 ounce) packages fresh blueberries, rinsed', '12 cup packed light brown sugar', '2 tablespoons cold unsalted butter, cut up', 'vanilla ice cream, for serving (optional)']\n",
            "75b65dfcf4.jpg ['14 cup white sugar', '1 teaspoon ground cinnamon', '34 cup butter', '3 cups white sugar', '3 eggs', '6 bananas, very ripe, mashed', '16 ounces sour cream', '2 teaspoons vanilla extract', '2 teaspoons ground cinnamon', '12 teaspoon salt', '3 teaspoons baking soda', '4 12 cups all-purpose flour', '1 cup walnuts, chopped (optional)']\n",
            "995e7b9920.jpg ['1 teaspoon active dry yeast', '1 tablespoon plus 1/2 teaspoon sugar', '1/4 cup plus 2 tablespoons milk, warmed', '1 1/2 cups all-purpose flour, plus more for dusting', '1/4 cup buckwheat flour', '1 teaspoon kosher salt', '1 large egg, beaten', '1 tablespoon unsalted butter, melted', '1 medium russet potato (1/2 pound), peeled and cut into 1-inch chunks', 'Salt', '2 tablespoons vegetable oil, plus more for frying', '1 medium leek, white and tender green parts, cut into 1/2-inch dice', '1 tablespoon unsalted butter', '1/4 cup cream cheese, at room temperature', '2 tablespoons heavy cream', 'Freshly ground pepper', '1 large egg, lightly beaten', 'Sour cream, chopped dill, thinly sliced red onion and trout or paddlefish caviar, for garnish']\n",
            "d38ed00f48.jpg ['8 ounces light cream cheese', '1 cup light sour cream', '12 cup diced pickled jalapeno pepper', '1 tablespoon minced onion flakes', '1 teaspoon lemon juice', '12 teaspoon salt', '14 teaspoon dry mustard']\n",
            "a702563926.jpg ['1 (8 ounce) package refrigerated crescent rolls', '1 pound ground beef', '1 (1 ounce) package taco seasoning mix', '1 (16 ounce) container sour cream', '8 ounces shredded Mexican-style cheese blend', '1 (14 ounce) bag tortilla chips, crushed']\n",
            "f59d0e69db.jpg ['1 (18.25 ounce) package German chocolate cake mix', '1 (18.25 ounce) package white cake mix', '2 (3.5 ounce) packages instant vanilla pudding mix', '1 (12 ounce) package vanilla sandwich cookies', '3 drops green food coloring', '1 (12 ounce) package tootsie rolls']\n",
            "73ef600000.jpg ['1 tablespoon vegetable oil', '3 onions, sliced', '3 cloves garlic, chopped', '1/4 cup smoked Spanish paprika', '2 teaspoons kosher salt', '1 teaspoon coarsely ground black pepper', '3 pounds lean beef stew meat, cut into 1-inch cubes', '3 tablespoons vegetable oil, divided', '1 1/2 cups water', '1 (6 ounce) can tomato paste', '1 (10 ounce) package egg noodles', '1/2 cup sour cream (optional)', '8 sprigs fresh parsley (optional)']\n",
            "4d05bd5790.jpg ['Salsa:', '1/2 cup chopped ripe plum (about 1)', '1/2 cup diced apricots (about 2)', '1/2 cup diced nectarine (about 1)', '2 tablespoons thinly sliced fresh mint', '2 tablespoons diced red onion', '1 tablespoon minced seeded serrano chile', '1 teaspoon grated lime rind', '3 tablespoons fresh lime juice', '1 tablespoon honey', '1/4 teaspoon salt', '1/8 teaspoon ground red pepper', '12 sweet cherries, pitted and halved', '1 green onion, finely chopped', 'Shrimp:', '2 tablespoons butter, melted', '2 teaspoons fresh lemon juice', '1/4 teaspoon salt', '1 garlic clove, minced', '24 jumbo shrimp, peeled and deveined (about 2 pounds)', 'Cooking spray', '6 lime wedges', 'Mint sprigs (optional)']\n",
            "2478e0c174.jpg ['1 pita bread (6 inch)', '1/2 cup torn lettuce', '2 slices OSCAR MAYER Smoked Ham', '2 slices OSCAR MAYER Smoked Turkey Breast', '2 thin tomato slices Safeway 1 lb For $1.29 thru 02/09', '1 Tbsp. KRAFT Shredded Cheddar Cheese', '1 Tbsp. KRAFT Zesty Italian Dressing']\n",
            "74a1559c92.jpg ['2 1/4 cups all-purpose flour', '1 teaspoon baking soda', '1/2 teaspoon salt', '2 tablespoons grated fresh ginger', '3/4 cup butter, softened', '1 cup white sugar', '1/4 cup molasses', '1 egg', '1 cup white sugar']\n",
            "0e8bec249f.jpg ['12 cup shortening', '34 cup peanut butter', '13 cup sugar', '13 cup brown sugar', '1 egg', '2 tablespoons milk', '1 teaspoon vanilla', '1 12 cups flour', '1 teaspoon baking soda', '12 teaspoon salt', 'additional sugar', '48 Hershey chocolate kisses']\n",
            "7673c466bc.jpg ['1 pound Thin Sliced Chicken Breasts', 'Olive Oil', \"Blackening Seasoning (like Zatarain's)\", '1 Green Bell Pepper, Sliced', '1 Red Bell Pepper, Sliced', '1 Medium Onion, Sliced In Half Rings', '8 Flour Tortillas, Warmed', 'Toppings Of Your Choice, Such As Shredded Cheese, Sour Cream, And Guacamole']\n",
            "a865e07984.jpg ['4 whole Large Or 6 Medium Sized Plums', '1- 1/2 cup All-purpose Flour', '3/4 cups Sugar', '1 teaspoon Baking Soda', '1 pinch Salt', '1/2 whole Orange, Zested', '1 cup Freshly Squeezed Orange Juice', '13 cups Vegetable Oil', '1 Tablespoon White Vinegar', '2 teaspoons Vanilla', '1 cup All-purpose Flour', '1/2 cups Light Brown Sugar', '1 pinch Salt', '6 Tablespoons Earth Balance Butter Stick, Cut Into Small Pieces', '1/2 Orange, Zested']\n",
            "17e5ced833.jpg ['2 (14 1/2 ounce) cans chopped tomatoes, drained', '10 sun-dried tomatoes, re-hydrated in water 5 minutes, drained and chopped', '2 tablespoons capers, rinsed and drained', '12 cup pine nuts, dry-toasted', '1 tablespoon minced garlic', '14 cup grated parmesan cheese', '12 cup snipped fresh basil leaf, cut in thin strips', '1 lb dried bow tie pasta (farfalle)', 'kosher sea salt', 'fresh ground black pepper, to taste']\n",
            "1db398fc53.jpg ['8 cups water', '13 cup dried black beans, rinsed and soaked overnight', '13 cup dried red kidney beans, rinsed and soaked overnight', '1 12 cups string beans, topped, tailed, and cut in 1inch diagonal lengths', '4 slices smoked bacon, cut into small strips (reserve drippings)', '2 tablespoons vegetable oil', '2 tablespoons white wine vinegar', '1 tablespoon honey', '1 teaspoon dijon-style mustard', 'salt, to taste', 'black pepper, to taste', 'lemon wedge, for garnish']\n",
            "c68cea19b5.jpg ['2 cups all-purpose flour', '1/2 teaspoon baking soda', '1/2 teaspoon salt', '3/4 cup unsalted butter, melted', '1 cup packed brown sugar', '1/2 cup white sugar', '1 tablespoon vanilla extract', '1 egg', '1 egg yolk', '2 cups semisweet chocolate chips']\n",
            "63de829e6c.jpg ['150 grams dark torblerone chocolate or any chocolate', '50 grams butter', '1 tbsp chop almond nut', '1 large egg', '2 tbsp self raising flour or plain flour', '1/2 tbsp soft butter', '1 tbsp cocoa powder / any flour']\n",
            "eeb173fbde.jpg ['2 cans (20 Oz. Size) Cherry Pie Filling', '15 ounces, weight Canned Pitted Dark Sweet Cherries In Heavy Syrup, Drained', '1/4 cups All-purpose Flour, Divided', '1/2 teaspoons Almond Extract', '5 White Bread Slices', '1- 1/4 cup Sugar', '1/2 cups Butter Or Margarine, Melted', '1 Large Egg', '1- 1/2 teaspoon Grated Lemon Rind']\n",
            "0c0f50700f.jpg ['23 cups Granulated Sugar', \"1 Tablespoon Grapefruit Zest (for 1 Tablespoon You'll Need About 1 Large Grapefruit)\", '13 cups Vegetable Oil', '1/4 cups Poppy Seeds', '2 teaspoons Grapefruit Juice', '2 teaspoons Vanilla', '1 Egg', '1- 1/2 cup Whole Wheat Pastry Flour', '1 cup All-purpose Flour', '3- 1/2 teaspoons Baking Powder', '1 teaspoon Salt', '1- 1/4 cup 2% Milk', '2 Tablespoons Unsalted Butter, melted', '1- 1/4 cup Powdered Sugar', '1/2 teaspoons Vanilla', '2 Tablespoons Grapefruit Juice (more If Needed)']\n",
            "356c7802c1.jpg ['14 cup butter', '2 -3 garlic cloves, minced', '2 teaspoons sesame seeds', '1 (14 ounce) can artichoke hearts, drained & chopped', '1 cup shredded monterey jack cheese', '1 cup grated parmesan cheese', '1 cup sour cream', '1 loaf French bread', '12 cup shredded cheddar cheese (I prefer sharp)']\n",
            "68df2fc142.jpg ['1 as much (to taste) Red shiso leaves from umeboshi']\n",
            "e7e10e66d8.jpg ['4 14 lbs red potatoes', '12 cup sour cream', '1 tablespoon steak seasoning', '1 13 cups whipping cream', '5 ounces butter']\n",
            "e7b2c37c85.jpg [\"1 (18.25 ounce) package devil's food cake mix\", '1 (5.9 ounce) package instant chocolate pudding mix', '1 cup sour cream', '1 cup vegetable oil', '4 eggs', '1/2 cup warm water', '2 cups semisweet chocolate chips']\n",
            "b5be0b054a.jpg ['34 cup long grain brown rice', '1 cup frozen corn', '3 medium carrots, thinly sliced', '12 cup green pepper, chopped', '12 cup red pepper, chopped', '12 cup yellow pepper, chopped (or orange)', '14 cup onion, chopped', '4 garlic cloves, minced', '1 tablespoon olive oil', '1 (15 1/2 ounce) can black-eyed peas, rinsed and drained', '1 (14 1/2 ounce) can diced tomatoes, drained', '2 tablespoons fresh parsley, minced', '3 teaspoons fresh thyme, chopped or 1 teaspoon dried thyme', '12 teaspoon salt', '14 teaspoon pepper', '14 teaspoon crushed red pepper flakes', 'hot sauce']\n",
            "5735ac707c.jpg ['2 tablespoons GOYA Extra Virgin Olive Oil, divided', '4 (5 ounce) boneless, skinless chicken breast fillets', 'GOYA Adobo All-Purpose Seasoning with Pepper, to taste', '1/2 red onion, finely chopped', '1/2 red bell pepper, finely chopped', '1 (15.5 ounce) can GOYA Low Sodium Black Beans, drained and rinsed', '1/2 cup fresh corn kernels', '1 avocado, finely chopped', '1 tablespoon GOYA Lemon Juice', '1 tablespoon finely chopped fresh cilantro']\n",
            "43a9c3da7e.jpg ['2 (10 ounce) cans refrigerated biscuit dough', '1 pound ground beef', '1 (15 ounce) can sloppy joe sauce', '1 small onion, chopped (optional)', '1 small green bell pepper, seeded and chopped (optional)', '1/4 teaspoon garlic salt', '1/4 teaspoon ground black pepper', '2 cups shredded Cheddar cheese']\n",
            "c6b596c074.jpg ['5 ice cubes', '4 cups cantaloupe, cubed', '1 12 teaspoons lemon juice', '1 12 teaspoons sugar substitute']\n",
            "87cd378a41.jpg ['200 grams Cake flour', '1 tsp Baking powder', '40 grams Sugar', '1 dash Salt', '125 ml Heavy cream', '1 Egg', '1 Dried cranberries']\n"
          ]
        }
      ]
    },
    {
      "cell_type": "code",
      "source": [
        "for i in range(0,30):\n",
        "    print(ids[i][0],recipes[i][1])"
      ],
      "metadata": {
        "colab": {
          "base_uri": "https://localhost:8080/"
        },
        "id": "DRPcfyNnAsVK",
        "outputId": "e2080092-7639-44b7-c097-36ce92fe8731"
      },
      "execution_count": null,
      "outputs": [
        {
          "output_type": "stream",
          "name": "stdout",
          "text": [
            "f7da1e9521.jpg ['Preheat an oven to 375 degrees F (190 degrees C).', 'Grease a 9x5-inch loaf pan.', 'Combine flour, baking powder, salt, and garlic powder together in a small bowl.', 'Set aside.', 'Whisk together butter and eggs until well combined, then stir in the flour mixture.', 'Fold in the onion, green bell pepper, red bell pepper, Cheddar cheese, and mushrooms.', 'Mix well, the batter will be stiff.', 'Pour batter into the prepared loaf pan.', 'Bake in the preheated oven until a toothpick inserted into the center comes out clean, 50 minutes to 1 hour.', 'Cool in the pan for 10 minutes before removing to cool completely on a wire rack.']\n",
            "934da5a455.jpg ['Mash ripe banana well, add in whisk eggs.', 'Warm non stick or cast iron pan to medium, spray with oil.', 'Cook silver dollar size pancakes 30 seconds on each side and serve.', '(We use a small amount of maple syrup or agave on our pancakes).']\n",
            "9db77658ed.jpg ['Heat oven to 350 degrees.', 'Coat a 2-qt deep baking dish with nonstick cooking spray.', 'Set aside.', 'Place half of pound cake in a food processor.', 'Pulse until no large pieces remain.', 'Add second half of pound cake and pulse until crumbs are formed.', 'Transfer to a large bowl.', 'Stir in melted butter, almonds and 1 tsp pumpkin pie spice until blended.', 'In a second large bowl, combine apple slices, blueberries, brown sugar and remaining 1/2 tsp pumpkin pie spice.', 'Toss to combine.', 'Sprinkle 1/2 c of crumb mixture into bottom of prepared dish, coating evenly.', 'Top with half of the apple mixture and half of the remaining crumb mixture.', 'Repeat, ending with remaining crumb mixture on top.', 'Dot top of mixture with the cold butter pieces and cover dish with foil.', 'Bake at 350 degrees for 30 minutes, then uncover and continue to bake for another 30 minutes.', 'Remove from oven; cool at least 15 minutes before serving with ice cream on the side, if desired.']\n",
            "75b65dfcf4.jpg ['Preheat oven to 300 degrees F (150 degrees C).', 'Grease four 7x3 inch loaf pans.', 'In a small bowl, stir together 1/4 cup white sugar and 1 teaspoon cinnamon.', 'Dust pans lightly with cinnamon and sugar mixture.', 'In a large bowl, cream butter and 3 cups sugar.', 'Mix in eggs, mashed bananas, sour cream, vanilla and cinnamon.', 'Mix in salt, baking soda and flour.', 'Stir in nuts.', 'Divide into prepared pans.', 'Bake for 1 hour, until a toothpick inserted in center comes out clean.', 'I know four loaves is a lot, but remember you can freeze this.']\n",
            "995e7b9920.jpg ['Prepare the Dough In a small bowl, stir the yeast and 1/2 teaspoon of the sugar into the warm milk.', 'Let stand until foamy, about 5 minutes.', 'Prepare the Dough In a large bowl, whisk the 1 1/2 cups of all-purpose flour with the buckwheat flour, salt and the remaining 1 tablespoon of sugar.', 'Stir in the yeast mixture, beaten egg and melted butter and knead until a smooth dough forms.', 'Transfer the dough to a lightly oiled bowl, cover with plastic wrap and let stand in a warm place until doubled in volume, about 1 1/4 hours.', 'Punch down the dough, cover and let rise again until doubled, about 1 1/4 hours longer.', 'Meanwhile, Prepare the Filling In a medium saucepan, cover the potato chunks with water and bring to a boil.', 'Add a large pinch of salt and cook over moderately high heat until tender, about 8 minutes.', 'Drain the potato and return the chunks to the pan, shaking over the heat to dry them out, about 10 seconds.', 'Pass the warm potatoes through a ricer into a large bowl or mash them with a potato masher.', 'Meanwhile, Prepare the Filling In a medium skillet, heat the 2 tablespoons of oil.', 'Add the leek and a pinch of salt and cook over moderate heat, stirring occasionally, until softened, about 6 minutes.', 'Remove from the heat and stir in the butter.', 'Add the leek to the potatoes along with the cream cheese and heavy cream, stir well and season with salt and pepper.', 'Meanwhile, Prepare the Filling Punch down the dough again.', 'Transfer to a lightly floured work surface and shape it into a rectangle.', 'Roll the dough out into a 8-by-20-inch rectangle, about 1/8 inch thick.', 'Cut the dough into eight 4-by-5-inch rectangles.', 'Set 1 rectangle with a long side toward you and spoon 1/4 cup of the potato filling on the top third; leave a 1/3-inch border on the top and sides.', 'Bring the bottom of the dough up and over the filling, fold all the sides over themselves and press to seal.', 'Repeat to form the remaining knishes.', 'Brush the knishes with the beaten egg, coating the seams well.', 'Place the knishes on a parchment paperlined baking sheet and freeze for 10 minutes.', 'Meanwhile, Prepare the Filling Preheat the oven to 350.', 'In a medium saucepan, heat 1 1/2 inches of vegetable oil to 375.', 'Set a wire rack over a rimmed baking sheet near the stove.', 'Fry 2 knishes at a time, turning them a few times, until richly browned, about 2 minutes.', 'Using a slotted spoon, transfer the knishes to the rack to drain.', 'Keep the fried knishes hot in the oven.', 'Meanwhile, Prepare the Filling Cut the knishes on the diagonal into 2 1/2-inch pieces.', 'Top with sour cream, dill, red onion and caviar and serve right away.']\n",
            "d38ed00f48.jpg ['Combine all ingredients and beat until smooth.', 'It is recommended that this dip is chilled for at least 6 hours before serving to properly blend the flavors.']\n",
            "a702563926.jpg ['Preheat oven to 350 degrees F (175 degrees C).', 'Lay crescent dough flat on the bottom of a square cake pan and bake according to package directions.', 'Meanwhile, brown the ground beef in a large skillet over medium high heat.', 'Add the taco seasoning and stir together well.', 'When dough is done, remove from oven and place meat mixture on top, then layer with sour cream and cheese, and then top off with the crushed nacho chips.', 'Return to oven and bake at 350 degrees F (175 degrees C) for 10 minutes, or until cheese has melted.']\n",
            "f59d0e69db.jpg ['Prepare cake mixes and bake according to package directions (any size pan).', 'Prepare pudding according to package directions and chill until ready to assemble.', 'Crumble sandwich cookies in small batches in a food processor, scraping often.', 'Set aside all but 1/4 cup.', 'To the 1/4 cup add a few drops of green food coloring and mix.', 'When cakes are cooled to room temperature, crumble them into a large bowl.', 'Toss with 1/2 of the remaining cookie crumbs, and the chilled pudding.', \"You probably won't need all of the pudding, you want the cake to be just moist, not soggy.\", 'Line kitty litter box with the kitty litter liner.', 'Put cake mixture into box.', 'Put half of the unwrapped tootsie rolls in a microwave safe dish and heat until softened.', 'Shape the ends so that they are no longer blunt, and curve the tootsie rolls slightly.', 'Bury tootsie rolls randomly in the cake and sprinkle with half of the remaining cookie crumbs.', 'Sprinkle a small amount of the green colored cookie crumbs lightly over the top.', 'Heat 3 or 4 of the tootsie rolls in the microwave until almost melted.', 'Scrape them on top of the cake and sprinkle lightly with some of the green cookie crumbs.', 'Heat the remaining tootsie rolls until pliable and shape as before.', 'Spread all but one randomly over top of cake mixture.', 'Sprinkle with any remaining cookie crumbs.', 'Hang the remaining tootsie roll over side of litter box and sprinkle with a few green cookie crumbs.', 'Serve with the pooper scooper for a gross Halloween dessert.']\n",
            "73ef600000.jpg ['Heat 1 tablespoon oil in a large skillet over medium-high heat.', 'Cook and stir onions until they soften and begin to brown at the edges, 8 to 10 minutes.', 'Add the garlic and cook for one minute.', 'Transfer mixture to a slow cooker.', 'Cover and set cooker to Low.', 'Mix together paprika, salt, and pepper in a large bowl.', 'Toss the meat cubes in the paprika mixture until evenly coated.', 'Heat one tablespoon of the oil in the skillet over medium-high heat.', 'Put a third of the beef cubes into the skillet and cook until nicely browned on all sides.', 'Transfer to the slow cooker.', 'Pour 2 tablespoons of water into the skillet and scrape the browned bits from the pan; pour liquid into the slow cooker.', 'This prevents the paprika from burning when you brown the next batches of beef.', 'Add another tablespoon of oil to the skillet and cook the next batch the same way; repeat for the third batch.', 'Stir the tomato paste and the rest of the water into the slow cooker; cover.', 'Cook on High for 4 to 5 hours (or on Low for 6 to 9 hours).', 'Fill a large pot with lightly salted water and bring to a rolling boil over high heat.', 'Stir in the egg noodles, and cook uncovered, stirring occasionally, until the noodles have cooked through, but are still firm to the bite, about 5 minutes.', 'Drain.', 'Serve goulash over noodles with a dollop of sour cream and a sprig of parsley.']\n",
            "4d05bd5790.jpg ['To prepare salsa, combine the first 13 ingredients in a medium bowl; stir well.', 'Cover and chill 1 hour.Prepare grill.To prepare shrimp, place butter, 2 teaspoons juice, 1/4 teaspoon salt, garlic, and shrimp in a large bowl; toss to coat.', 'Thread 4 shrimp onto each of 6 (12-inch) skewers.', 'Place kebabs on a grill rack coated with cooking spray; grill for 3 minutes on each side or until shrimp are done.', 'Serve with salsa and lime wedges.', 'Garnish with mint sprigs, if desired.']\n",
            "2478e0c174.jpg ['Cut edge from top of pita; fill with lettuce, meats, tomatoes and cheese.', 'Drizzle with dressing; wrap in plastic wrap.', 'Refrigerate until ready to serve.']\n",
            "74a1559c92.jpg ['In a large mixing bowl, combine flour, soda, and salt.', 'In a separate bowl, beat ginger, butter, and 1 cup sugar until light and fluffy.', 'Beat in molasses and egg.', 'Gently fold in flour mixture until just combined.', 'Chill for 1 hour.', 'Preheat oven to 350 degrees F (175 degrees C).', 'Roll dough into 1 1/2 inch balls and then roll them in sugar.', 'Place 2 inches apart on ungreased baking sheets.', 'Bake until edges start to brown, about 15 minutes.', 'Centers will be slightly soft.', 'Let stand on cookie sheets 1 minute and remove to racks to cool completely.']\n",
            "0e8bec249f.jpg ['Preheat oven to 375 degrees.', 'In mixer, beat shortening and peanut butter until well blended; Blend in sugars and beat until light and fluffy.', 'Add egg, milk and vanilla; Beat well.', 'Stir together flour, baking soda and salt; gradually mix in peanut butter mixture.', 'Shape dough into 1-inch balls and rollin additional sugar.', 'Place on ungreased cookie sheet and bake 8-10 minutes or until lightly browned.', \"Immediately place a Hershey's Kiss on each cookie and press down slightly.\"]\n",
            "7673c466bc.jpg ['Brush each chicken breast with olive oil.', 'Sprinkle with blackened seasoning.', 'Heat a cast iron skillet over high heat.', 'Cook each chicken breast 1 1/2 to 2 minutes, until charred and cooked through.', 'Remove chicken and keep warm.', 'Reduce heat to medium high.', 'Add about 1 tablespoon of olive oil to the pan.', 'Add sliced peppers and onions and cook, stirring occasionally, until crisp tender, about 45 minutes.', 'Slice the chicken and serve with peppers and onions in tortillas with toppings of your choice.', 'Enjoy!']\n",
            "a865e07984.jpg ['Preheat oven to 350 F. Grease and line a 10 inch round cake pan with parchment paper.', 'Set pan aside.', 'Remove pit from plums and cut them into 1 inch wedges.', 'Set plums aside.', 'Sift flour, sugar, baking soda and salt into a medium size bowl.', 'In a separate bowl add orange zest and juice, vegetable oil, vinegar and vanilla then mix until combined.', 'Pour liquid ingredients over dry ingredients and stir with whisk until lump free, being careful not to over mix.', 'Pour batter into the cake pan and arrange plum pieces in a single layer on top of the batter.', 'Set aside.', 'For the crumble topping add flour, brown sugar and salt into a medium sized bowl then mix together with your fingers.', 'Add butter pieces and orange zest.', 'With a pastry blender or with your fingers press the butter into the flour mixture until it resembles coarse crumbs.', 'Sprinkle on top of of cake in an even layer.', 'Bake for 40 to 45 minutes or until cake is golden in color, the sides have started to pull away from the pan and a toothpick inserted in the center comes out clean.', 'Remove pan from oven and put it on a cooling rack for at least 20 minutes before removing cake from pan.']\n",
            "17e5ced833.jpg ['UP TO 1 DAY AHEAD: Combine all ingredients except pasta, salt and pepper in a large bowl.', 'Place in a covered container and refrigerate overnight.', 'BEFORE SERVING:.', 'Place sauce in a large bowl and bring to room temperature.', 'Cook pasta in a large pot to al dente following package instructions, about 12 minutes.', 'Drain pasta and add it to the tomato mixture.', 'Toss well to combine.', 'Season with salt and pepper to taste.', 'Serve with additional Parmesan cheese on the side.']\n",
            "1db398fc53.jpg ['Drain the soaked black and red beans separately in a strainer.', 'In two medium saucepans, bring 5 cups of water (2 1/2 cups in each) to a boil.', 'Add the black beans to one pot and the red beans to another, reduce the heat under both to medium, and simmer for about 45 minutes, until the beans are tender but not soft.', 'Drain the beans separately in a colander and set aside, covered.', 'Bring the remaining 3 cups of lightly salted water to a boil in one of the saucepans, and fill a large bowl with cold water and add several ice cubes to it.', 'Cook the string beans for 3 to 4 minutes, depending on their size, until they are tender but still bright green.', 'Immediately drain them and plunge them into the ice water to retain their green color.', 'Drain and dry on paper towels.', 'In a medium heavy skillet cook the bacon strips over medium heat until crisp.', 'Remove the bacon with a slotted spoon and drain briefly on paper towels.', 'In a small bowl, measure 1 tablespoon of the bacon fat and whisk it together with the remaining ingredients (except lemon wedges).', 'In a large serving bowl, combine all the beans and drizzle the dressing over.', 'Toss gently just to coat all the ingredients evenly, crumble the bacon over the top and serve while still slightly warm, Garnish with lemon wedges.']\n",
            "c68cea19b5.jpg ['Preheat the oven to 325 degrees F (165 degrees C).', 'Grease cookie sheets or line with parchment paper.', 'Sift together the flour, baking soda and salt; set aside.', 'In a medium bowl, cream together the melted butter, brown sugar and white sugar until well blended.', 'Beat in the vanilla, egg, and egg yolk until light and creamy.', 'Mix in the sifted ingredients until just blended.', 'Stir in the chocolate chips by hand using a wooden spoon.', 'Drop cookie dough 1/4 cup at a time onto the prepared cookie sheets.', 'Cookies should be about 3 inches apart.', 'Bake for 15 to 17 minutes in the preheated oven, or until the edges are lightly toasted.', 'Cool on baking sheets for a few minutes before transferring to wire racks to cool completely.']\n",
            "63de829e6c.jpg ['butter & sprinkle cocoa powder on ramekin or any baking dish', 'melt butter and chocolate in a bowl over hot water,stir until smooth', 'gradually stir in egg ,then flour & nut', 'pour all ingredient to a ramekin and bake at 220C /440F for 12 -15 minute', 'Once its cool top with icing sugar', 'BELOW ARE ANOTHER CHOCOLATE LAVA RECIPES, I AM GLAD TO SHARE WITH YOU']\n",
            "eeb173fbde.jpg ['Preheat oven to 350 degrees F. In a large bowl stir together pie filling, cherries, and 2 tablespoons flour.', 'Stir in almond extract.', 'Place in a lightly greased 8-inch-square baking dish.', 'Trim crusts off of all of the bread slices; cut each slice into 5 strips.', 'Arrange bread strips over fruit mixture.', 'In a small bowl stir together remaining 2 tablespoons flour, sugar, and remaining 3 ingredients.', 'Drizzle over bread strips.', 'Bake at 350 degrees F for 35 to 45 minutes or until golden and bubbly.']\n",
            "0c0f50700f.jpg ['Heat oven to 350 F. Grease regular-size muffin tins with baking spray or line 14 muffin cups with paper baking cups.', 'In a large bowl or the bowl of a stand mixer, rub sugar and grapefruit zest together with fingers until well-combined and fragrant.', 'Add oil, poppy seeds, grapefruit juice, vanilla and egg.', 'Beat on low speed until just combined.', 'In a separate large bowl, whisk together flours, baking powder and salt.', 'Into the grapefruit-poppy seed mixture, alternately stir in flour mixture and milk, beginning and ending with flour mixture, until just combined.', 'Pour batter into prepared muffin tins.', 'Bake 20 minutes until a toothpick inserted in the center of a muffin comes out clean.', 'Transfer muffins to a cooling rack to cool completely.', 'In a small bowl, combine ingredients for glaze, adding more grapefruit juice or powdered sugar as needed to achieve desired consistency.', 'Dip the top of each muffin in glaze, then return to cooling rack (or a sheet of parchment paper) so glaze can drip and set.']\n",
            "356c7802c1.jpg ['Preheat over to 350F.', 'Melt butter in a skillet over medium heat.', 'Add garlic and sesame seeds.', 'Saute until lightly browned.', 'Remove from heat and stir in artichoke, Monterey jack, parmesan and sour cream.', 'Cut bread in half lengthwise.', 'Scoop out center of each piece, leaving a 1 inch shell.', 'Add approximately 1/2 of the removed bread pieces to the artichoke mixture.', 'Stir to blend.', 'Spoon artichoke mixture into french bread shells and sprinkle with cheddar cheese.', 'Place on baking sheet and cover with foil.', 'Bake for 25 minutes.', 'Remove foil and bake 5 minutes more.', 'Cool slightly and cut into slices.']\n",
            "68df2fc142.jpg ['Dry the red shiso at the same time as drying umeboshi.', 'Put the dried red shiso in a food mill to finely grind it up.', 'How To Preserve Red Shiso Leaves', 'How to Pickle Reduced-Salt Umeboshi']\n",
            "e7e10e66d8.jpg ['Wash potatoes to remove dirt.', 'Simmer potatoes in jackets until fully cooked, approximately 30 to 35 minutes.', 'Drain the potatoes and place in a mixing bowl with a paddle attachment.', 'Meanwhile, melt the butter in a heavy gauged sauce pot over a medium heat.', 'Add and blend in the whipping cream.', 'Remove from the heat and reserve.', 'With the mixer on low speed, gradually add the butter-cream liquid to incorporate.', 'Add the sour cream and the steak seasoning.', 'Whip potatoes on medium speed until mashed but some lumps remain.', 'Do not overwhip potatoes.', 'Garnish with fresh chopped chives and serve.']\n",
            "e7b2c37c85.jpg ['Preheat oven to 350 degrees F (175 degrees C).', 'In a large bowl, mix together the cake and pudding mixes, sour cream, oil, beaten eggs and water.', 'Stir in the chocolate chips and pour batter into a well greased 12 cup bundt pan.', 'Bake for 50 to 55 minutes, or until top is springy to the touch and a wooden toothpick inserted comes out clean.', 'Cool cake thoroughly in pan at least an hour and a half before inverting onto a plate If desired, dust the cake with powdered sugar.']\n",
            "b5be0b054a.jpg ['Cook the rice according to package directions.', 'Meanwhile, in a large nonstick skillet, saute the corn, carrots, peppers, onion and garlic in oil for 6 to 8 minutes or until crisp tender.', 'Stir in the rice, peas and tomatoes; bring to a boil.', 'Reduce heat to low, cover and simmer for 5 minutes or until heated through, stirring occasionally.', 'Add the seasonings; cook 2 to 3 minutes longer.', 'Sprinkle hot sauce to taste.']\n",
            "5735ac707c.jpg ['Heat 1 tbsp.', 'oil in large skillet over medium-high heat.', 'Season chicken with Adobo.', 'Cook chicken, flipping once, until golden brown on both sides and cooked through, 5- 7 minutes.', 'Transfer chicken to plate; tent with foil to keep warm.', 'Heat remaining oil in skillet.', 'Add onions and peppers.', 'Cook, stirring, until tender, about 5 minutes.', 'Stir in black beans and corn.', 'Continue cooking until warmed through, about 2 minutes.', 'Remove pan from heat.', 'Stir in avocado, lemon juice and cilantro until combined.', 'Divide chicken among serving plates; top with black bean mixture.', 'Serve warm.']\n",
            "43a9c3da7e.jpg ['Preheat the oven to 350 degrees F (175 degrees C).', 'Cut the biscuit dough into quarters and press to cover the bottom of a 9x13 inch baking dish.', 'Place the ground beef into a skillet over medium heat.', 'Cook, stirring to crumble, until no longer pink.', 'Add the onion and bell pepper about halfway through, cooking and stirring until tender.', 'Drain off excess grease and stir in the sloppy Joe sauce.', 'Season with garlic salt and pepper.', 'Pour the mixture over the biscuits and spread to cover evenly.', 'Bake in the preheated oven until the biscuits are cooked through, about 20 minutes.', 'Remove from the oven and sprinkle the cheese on top.', 'Return to the oven until the cheese has melted, about 10 more minutes.']\n",
            "c6b596c074.jpg ['Put ice cubes in blender, blend till just crushed.', 'Add rest of ingredients.', 'Blend till combined.']\n",
            "87cd378a41.jpg ['Add the sifted dry ingredients, sugar, and salt into a bowl, and mix around and around with a whisk or cooking chopsticks.', 'Add the heavy cream, egg, and dried cranberries, and mix together.', 'Dust the counter with a generous amount of flour, and roll the dough into a ball.', 'Rotate, and then fold several times while flipping, then make into 2 cm thick.', 'Either cut out a shape with a cookie cutter or cut with a knife.', 'Leave the edges as is so that nice layers will appear.', 'Do not fix the shape.', 'Line a baking tray with parchment paper, place the pieces of scone dough, and bake in the oven for 12 ~ 15 minutes at 190C.', 'When lightly browned, they are done.', 'When finished baking, put on a rack to let them cool.', 'You can eat as is.', 'Opening up the nice crevices, and eating with plenty of clotted cream and jam is the English-style.', 'Enjoy with delicious tea.']\n"
          ]
        }
      ]
    },
    {
      "cell_type": "code",
      "source": [
        "['Preheat an oven to 375 degrees F (190 degrees C).', 'Grease a 9x5-inch loaf pan.', 'Combine flour, baking powder, salt, and garlic powder together in a small bowl.', 'Set aside.', 'Whisk together butter and eggs until well combined, then stir in the flour mixture.', 'Fold in the onion, green bell pepper, red bell pepper, Cheddar cheese, and mushrooms.', 'Mix well, the batter will be stiff.', 'Pour batter into the prepared loaf pan.', 'Bake in the preheated oven until a toothpick inserted into the center comes out clean, 50 minutes to 1 hour.', 'Cool in the pan for 10 minutes before removing to cool completely on a wire rack.']"
      ],
      "metadata": {
        "colab": {
          "base_uri": "https://localhost:8080/",
          "height": 35
        },
        "id": "9pzrmzkJMxkF",
        "outputId": "ac009035-f1b2-49a5-a6af-33500c55c9e3"
      },
      "execution_count": null,
      "outputs": [
        {
          "output_type": "execute_result",
          "data": {
            "text/plain": [
              "'f7da1e9521.jpg'"
            ],
            "application/vnd.google.colaboratory.intrinsic+json": {
              "type": "string"
            }
          },
          "metadata": {},
          "execution_count": 40
        }
      ]
    },
    {
      "cell_type": "code",
      "source": [
        "(' ').join(recipes[0][1]).replace('.','')"
      ],
      "metadata": {
        "colab": {
          "base_uri": "https://localhost:8080/",
          "height": 89
        },
        "id": "epRWsW4LQ6BT",
        "outputId": "9bf4117c-1061-414b-d24f-b502ed254563"
      },
      "execution_count": null,
      "outputs": [
        {
          "output_type": "execute_result",
          "data": {
            "text/plain": [
              "'Preheat an oven to 375 degrees F (190 degrees C) Grease a 9x5-inch loaf pan Combine flour, baking powder, salt, and garlic powder together in a small bowl Set aside Whisk together butter and eggs until well combined, then stir in the flour mixture Fold in the onion, green bell pepper, red bell pepper, Cheddar cheese, and mushrooms Mix well, the batter will be stiff Pour batter into the prepared loaf pan Bake in the preheated oven until a toothpick inserted into the center comes out clean, 50 minutes to 1 hour Cool in the pan for 10 minutes before removing to cool completely on a wire rack'"
            ],
            "application/vnd.google.colaboratory.intrinsic+json": {
              "type": "string"
            }
          },
          "metadata": {},
          "execution_count": 49
        }
      ]
    },
    {
      "cell_type": "code",
      "source": [
        "import nltk\n",
        "nltk.download('punkt')"
      ],
      "metadata": {
        "colab": {
          "base_uri": "https://localhost:8080/"
        },
        "id": "5X1wnFGBSqPS",
        "outputId": "4f56d9b4-c371-4549-84db-dcea8be4cb87"
      },
      "execution_count": 17,
      "outputs": [
        {
          "output_type": "stream",
          "name": "stderr",
          "text": [
            "[nltk_data] Downloading package punkt to /root/nltk_data...\n",
            "[nltk_data]   Unzipping tokenizers/punkt.zip.\n"
          ]
        },
        {
          "output_type": "execute_result",
          "data": {
            "text/plain": [
              "True"
            ]
          },
          "metadata": {},
          "execution_count": 17
        }
      ]
    },
    {
      "cell_type": "code",
      "source": [
        "from nltk.tokenize import RegexpTokenizer"
      ],
      "metadata": {
        "id": "fZR19RJ7TsoC"
      },
      "execution_count": 18,
      "outputs": []
    },
    {
      "cell_type": "code",
      "source": [
        "tokenizer = RegexpTokenizer(r'\\w+')"
      ],
      "metadata": {
        "id": "W6hYZzrNTvDP"
      },
      "execution_count": 19,
      "outputs": []
    },
    {
      "cell_type": "code",
      "source": [
        "tokenizer.tokenize((' ').join(recipes[0][1]).lower())"
      ],
      "metadata": {
        "colab": {
          "base_uri": "https://localhost:8080/"
        },
        "id": "ZApDZJJVTrLd",
        "outputId": "74e36553-9c8d-4b78-9ff3-fdafb9c00ef8"
      },
      "execution_count": null,
      "outputs": [
        {
          "output_type": "execute_result",
          "data": {
            "text/plain": [
              "['preheat',\n",
              " 'an',\n",
              " 'oven',\n",
              " 'to',\n",
              " '375',\n",
              " 'degrees',\n",
              " 'f',\n",
              " '190',\n",
              " 'degrees',\n",
              " 'c',\n",
              " 'grease',\n",
              " 'a',\n",
              " '9x5',\n",
              " 'inch',\n",
              " 'loaf',\n",
              " 'pan',\n",
              " 'combine',\n",
              " 'flour',\n",
              " 'baking',\n",
              " 'powder',\n",
              " 'salt',\n",
              " 'and',\n",
              " 'garlic',\n",
              " 'powder',\n",
              " 'together',\n",
              " 'in',\n",
              " 'a',\n",
              " 'small',\n",
              " 'bowl',\n",
              " 'set',\n",
              " 'aside',\n",
              " 'whisk',\n",
              " 'together',\n",
              " 'butter',\n",
              " 'and',\n",
              " 'eggs',\n",
              " 'until',\n",
              " 'well',\n",
              " 'combined',\n",
              " 'then',\n",
              " 'stir',\n",
              " 'in',\n",
              " 'the',\n",
              " 'flour',\n",
              " 'mixture',\n",
              " 'fold',\n",
              " 'in',\n",
              " 'the',\n",
              " 'onion',\n",
              " 'green',\n",
              " 'bell',\n",
              " 'pepper',\n",
              " 'red',\n",
              " 'bell',\n",
              " 'pepper',\n",
              " 'cheddar',\n",
              " 'cheese',\n",
              " 'and',\n",
              " 'mushrooms',\n",
              " 'mix',\n",
              " 'well',\n",
              " 'the',\n",
              " 'batter',\n",
              " 'will',\n",
              " 'be',\n",
              " 'stiff',\n",
              " 'pour',\n",
              " 'batter',\n",
              " 'into',\n",
              " 'the',\n",
              " 'prepared',\n",
              " 'loaf',\n",
              " 'pan',\n",
              " 'bake',\n",
              " 'in',\n",
              " 'the',\n",
              " 'preheated',\n",
              " 'oven',\n",
              " 'until',\n",
              " 'a',\n",
              " 'toothpick',\n",
              " 'inserted',\n",
              " 'into',\n",
              " 'the',\n",
              " 'center',\n",
              " 'comes',\n",
              " 'out',\n",
              " 'clean',\n",
              " '50',\n",
              " 'minutes',\n",
              " 'to',\n",
              " '1',\n",
              " 'hour',\n",
              " 'cool',\n",
              " 'in',\n",
              " 'the',\n",
              " 'pan',\n",
              " 'for',\n",
              " '10',\n",
              " 'minutes',\n",
              " 'before',\n",
              " 'removing',\n",
              " 'to',\n",
              " 'cool',\n",
              " 'completely',\n",
              " 'on',\n",
              " 'a',\n",
              " 'wire',\n",
              " 'rack']"
            ]
          },
          "metadata": {},
          "execution_count": 52
        }
      ]
    },
    {
      "cell_type": "code",
      "source": [
        "nltk.word_tokenize((' ').join(recipes[0][1]).lower().strip('.'))"
      ],
      "metadata": {
        "colab": {
          "base_uri": "https://localhost:8080/"
        },
        "id": "1xaK22Q2Rns8",
        "outputId": "b2771201-ff47-4361-d16d-801f127f86e1"
      },
      "execution_count": null,
      "outputs": [
        {
          "output_type": "execute_result",
          "data": {
            "text/plain": [
              "['preheat',\n",
              " 'an',\n",
              " 'oven',\n",
              " 'to',\n",
              " '375',\n",
              " 'degrees',\n",
              " 'f',\n",
              " '(',\n",
              " '190',\n",
              " 'degrees',\n",
              " 'c',\n",
              " ')',\n",
              " '.',\n",
              " 'grease',\n",
              " 'a',\n",
              " '9x5-inch',\n",
              " 'loaf',\n",
              " 'pan',\n",
              " '.',\n",
              " 'combine',\n",
              " 'flour',\n",
              " ',',\n",
              " 'baking',\n",
              " 'powder',\n",
              " ',',\n",
              " 'salt',\n",
              " ',',\n",
              " 'and',\n",
              " 'garlic',\n",
              " 'powder',\n",
              " 'together',\n",
              " 'in',\n",
              " 'a',\n",
              " 'small',\n",
              " 'bowl',\n",
              " '.',\n",
              " 'set',\n",
              " 'aside',\n",
              " '.',\n",
              " 'whisk',\n",
              " 'together',\n",
              " 'butter',\n",
              " 'and',\n",
              " 'eggs',\n",
              " 'until',\n",
              " 'well',\n",
              " 'combined',\n",
              " ',',\n",
              " 'then',\n",
              " 'stir',\n",
              " 'in',\n",
              " 'the',\n",
              " 'flour',\n",
              " 'mixture',\n",
              " '.',\n",
              " 'fold',\n",
              " 'in',\n",
              " 'the',\n",
              " 'onion',\n",
              " ',',\n",
              " 'green',\n",
              " 'bell',\n",
              " 'pepper',\n",
              " ',',\n",
              " 'red',\n",
              " 'bell',\n",
              " 'pepper',\n",
              " ',',\n",
              " 'cheddar',\n",
              " 'cheese',\n",
              " ',',\n",
              " 'and',\n",
              " 'mushrooms',\n",
              " '.',\n",
              " 'mix',\n",
              " 'well',\n",
              " ',',\n",
              " 'the',\n",
              " 'batter',\n",
              " 'will',\n",
              " 'be',\n",
              " 'stiff',\n",
              " '.',\n",
              " 'pour',\n",
              " 'batter',\n",
              " 'into',\n",
              " 'the',\n",
              " 'prepared',\n",
              " 'loaf',\n",
              " 'pan',\n",
              " '.',\n",
              " 'bake',\n",
              " 'in',\n",
              " 'the',\n",
              " 'preheated',\n",
              " 'oven',\n",
              " 'until',\n",
              " 'a',\n",
              " 'toothpick',\n",
              " 'inserted',\n",
              " 'into',\n",
              " 'the',\n",
              " 'center',\n",
              " 'comes',\n",
              " 'out',\n",
              " 'clean',\n",
              " ',',\n",
              " '50',\n",
              " 'minutes',\n",
              " 'to',\n",
              " '1',\n",
              " 'hour',\n",
              " '.',\n",
              " 'cool',\n",
              " 'in',\n",
              " 'the',\n",
              " 'pan',\n",
              " 'for',\n",
              " '10',\n",
              " 'minutes',\n",
              " 'before',\n",
              " 'removing',\n",
              " 'to',\n",
              " 'cool',\n",
              " 'completely',\n",
              " 'on',\n",
              " 'a',\n",
              " 'wire',\n",
              " 'rack']"
            ]
          },
          "metadata": {},
          "execution_count": 46
        }
      ]
    },
    {
      "cell_type": "code",
      "source": [
        "manual_recipes=[\"Beat 4 eggs Take chopped onions and chillis and beat them into the mixture Slice up 4 potatoes and lay them down in the round pan Add salt and salsa to the egg mixture Pour the egg mixture in the pan Top off the pan with chopped mushrooms\",\n",
        " \"Wash the strawberries and blueberries Slice apple into thin slices Bake the apple slices Cut the strawberries into halves Put the baked apple slices, blueberries and strawberries on a plate\",\n",
        " \"Add oats to boiling water to make them al-dente Drain out the water and cool the oats by running them under cold water Heat up 1 tablespoon of olive oil in a pan Add the oats to the pan Add salt to taste Stir the oats until they turn golden brown\",\n",
        " \"Sift a cup of whole wheat flour along with a cup of all-pupose flour into a bowl In a separate bowl, mix 1.5 cups of lukewarm water with a teaspoon of sugar Add yeast to the water mixture Once the water mixture bubbling up, add mix it with the flour mixture Wrap the flour into the water Cover the bowl with a cling film and let it sit for 4 hours Transfer the dough into an oiled baking tray Preheat the oven to 450F Bake the bread for 40 minutes\",\n",
        " \"Heat up two tablespoons of oil in a frying pan Lightly fry shredded cabbage Add salt and soy sauce to taste Heat up oil in a deep utensil Wrap up the prepared cabbage in spring roll wraps in the form of enclosed cylinders Deep fry the cabbage wraps Cut the wraps into three pieces and top off each piece with some caviar and sliced onions\",\n",
        " \"Mix sour cream and cream cheese Cut jalapeno peppers into small pieces and put into the mixture\",\n",
        " \"Ground beef finely Mix the ground beef with salt and 1 cup of flour and mix Add 1 teaspoon of salt to the mixture Transfer the mixture to a microwave safe pan Cover and refrigerate the mixture for 1 hour Top off the mixture with shredded cheese and pepperoni strips Heat in the microwave for 30 minutes\",\n",
        " \"Take corn and grind it Minse avocado to a fine pulp Mix them together well and put it in a dish Fry some green chillies and put them on top\",\n",
        " \"Boil pasta for 10 minutes Strain the pasta in a dish Cook tomatoes in a pan In a bowl put pasta and the sauce Put sour cream and coriander on top\",\n",
        " \"Take a skewered shrimp and brush it with butter and garlic. Heat on pan for 15 mins. Add salt and black pepper. Add tomatillo salsa. Take a piece of lemon, and olives. Put the salsa, lemon and olives on a plate. Put the shrimp on top of it\",\n",
        " \"Slice tomato, carrot, take 4 chicken slices salami, and some spinach, Put them in a pita bread half. Preheat oven to 350 degrees Fahrenheit Bake for 10 mins\",\n",
        " \"Take sugar, flour, egg, and butter. Add ginger. Mix them together and stir well to form a dough. Make round balls and place them on a tray Bake them at 350 degrees for 25 mins Leave it to cool\",\n",
        " \"Mix flour, egg and baking powder in a bowl Beat the mixture until the batter has thick consistency Cover bowl with plastic wrap and leave in the fridge for 2 hours Flatten dough with rolling pin to around 0.5 inch Cut dough with heart-shaped cookie cutter and place onto baking tray Preheat oven to 420 degrees Once oven is preheated, put tray into oven and bake for 30 minutes Take cookies out of oven and leave to cool down for 2 minutes Before cookies harden, gently press Hershey's chocolate in the center of each cookie. Leave cookies to cool down for 10 more minutes\",\n",
        " \"Slice onions, red pepper, green pepper. Take chicken pieces.  Fry them for 10 mins. Add salt and black pepper.  Put them on a tortilla. Add coriander on top. Serve with sour cream and guacamole.\",\n",
        " \"Crush graham crackers in a bowl Put two raw eggs into the bowl and mix with crushed cracker crumbs Put mixture into round pan and flatten Add additional mixture to the rim of the pan Put in fridge and let cool for 30 minutes Spread plum marmalade onto the cracker sheet Cover marmalade with leftover cracker crumbs Preheat oven to 420 degrees Place in oven and heat for 30 minutes Take pie out of oven and leave to cool down for 10 minutes\",\n",
        " \"First, cook the pasta until al dente. Mash the tomatoes Add italian herbs, olive oil and garlic Add salt and pepper to the tomato sauce Drain the pasta and pour it into the tomato sauce. Add basil to the pasta\",\n",
        " \"Heat up 2 tablespoons of oil in a frying pan Once the oil is hot, add ½ cup of black beans and ½ cup of red kidney beans Sautee the beans for 2 minutes Add long cut beans into the pan and sautee for another 3 minutes Once the vegetables have been cooked, transfer them to a bowl Heat up 1 tablespoon of oil in the pan Add 1 cup of diced pork to the pan and sautee for 5 minutes Add the vegetables back to the pan Add 1 teaspoon of salt Add ½ tablespoon of vinegar Sautee for 2 minutes\",\n",
        " \"Preheat oven to 350 degrees Fahrenheit Cream together butter, white sugar, and brown sugar Beat in the eggs. Add baking soda and salt. Add flour and chocolate chips Bake for 10 minutes in the oven\",\n",
        " \"Mix all purpose flour, cocoa powder, sugar, milk, egg and butter in a pan Preheat the oven to 425 degrees Put the prepared batter in a mold Bake for 30 minutes Put chocolate sauce on top Serve with cut strawberries on top\",\n",
        " \"Preheat the oven to 350 degrees Fahrenheit. Pour melted butter Whisk flour, sugar, baking powder and milk. Pour batter over the butter Add the fruit jam filling Bake till golden brown\",\n",
        " \"Preheat oven at 350 degrees Take sugar, salt, oil, flour, flavors like vanilla and egg and mix them well. In a separate container, mix flour, baking powder and stir well.Combine the 2 mixtures to create a batter. Put batter in muffin tins Bake for 20 mins Leave for cooling. Dip the top of each muffin in glaze composed of flavors like vanilla and sugar.\",\n",
        " \"Preheat the oven to 425 degrees fahrenheit and line a large baking sheet with foil. Mix butter with garlic, salt, and parsley until well combined. Apply the butter on the bread and add shredded cheese on top of the bread Bake until bread has golden edges or for about 10 minutes.\",\n",
        " \"Take cinnamon Grind it well Roast it in a pan Put in a dish\",\n",
        " \"Boil potato in water for 10 minutes Place soft potato in bowl and mash until there are no chunks Pour milk and mayonnaise into the mixture Mix until the mixture thickens Cut bacon into small pieces and grill on a pan until golden brown Put bacon pieces into the potato mixture Season with salt and pepper\",\n",
        " \"Preheat oven to 350. Take sugar, salt, flour, baking soda in a bowl and mix well. In a separate bowl, mix egg, oil, vanilla, salt, milk. Mix the contents of the two bowls and stir well. Bake the mixture for 80 minutes. Allow it to cool. Add sugar, chocolate syrup and white cream on top\",\n",
        " \"Cook brown rice and keep it aside Chop carrots, green pepper, yellow pepper, and red pepper Boil corn and keep it aside Boil white beans and keep them aside Add oil to a hot pot and cook the vegetables Adding salt and pepper to the vegetables when cooked Add the beans, corn and rice to the pot and give it a mix\",\n",
        " \"Boil red beans and corn and keep them aside Chop onions and red bell peppers and keep them aside Cut half a lime in slices Make a dough using flour and potatoes. Add salt to it as per preference. Make a corn flour batter Make a patty from the flour, dip it in the batter and coat it with breadcrumbs Frying the patty until golden brown As the patty as base, add the veggies and beans on top of it. Serve it along with sliced lime\",\n",
        " \"Preheat oven to 475 degrees Put rice and brown beans in a oven safe bowl Mix in can of tomato puree into the bowl Put bowl in oven and bake for 20 minutes, stirring occasionally Sprinkle shredded cheese on top and bake for 5 more minutes Take bowl out of oven and pour sour cream\",\n",
        " \"Pour mango juice into a cup of plain yogurt Stir until juice and yogurt are evenly mixed\",\n",
        " \"Take the all purpose flour Add butter, eggs and milk and whisk Add raisins and mix again Preheat oven to 350 degrees Put the batter in the mols and bake for 30 minutes\"\n",
        " ]"
      ],
      "metadata": {
        "id": "tMM0G_RbSjct"
      },
      "execution_count": null,
      "outputs": []
    },
    {
      "cell_type": "code",
      "source": [
        "len(manual_recipes)"
      ],
      "metadata": {
        "colab": {
          "base_uri": "https://localhost:8080/"
        },
        "id": "xyKrs7Ajqd-3",
        "outputId": "8feb7e2c-d512-49c0-8446-6dd62855dcf1"
      },
      "execution_count": null,
      "outputs": [
        {
          "output_type": "execute_result",
          "data": {
            "text/plain": [
              "30"
            ]
          },
          "metadata": {},
          "execution_count": 54
        }
      ]
    },
    {
      "cell_type": "code",
      "source": [
        "tokenizer.tokenize((' ').join(recipes[0][1]).lower())"
      ],
      "metadata": {
        "colab": {
          "base_uri": "https://localhost:8080/"
        },
        "id": "U2ySf9EDqf7W",
        "outputId": "456e0270-1cfc-47fc-83f3-328d63c5c0d6"
      },
      "execution_count": null,
      "outputs": [
        {
          "output_type": "execute_result",
          "data": {
            "text/plain": [
              "['preheat',\n",
              " 'an',\n",
              " 'oven',\n",
              " 'to',\n",
              " '375',\n",
              " 'degrees',\n",
              " 'f',\n",
              " '190',\n",
              " 'degrees',\n",
              " 'c',\n",
              " 'grease',\n",
              " 'a',\n",
              " '9x5',\n",
              " 'inch',\n",
              " 'loaf',\n",
              " 'pan',\n",
              " 'combine',\n",
              " 'flour',\n",
              " 'baking',\n",
              " 'powder',\n",
              " 'salt',\n",
              " 'and',\n",
              " 'garlic',\n",
              " 'powder',\n",
              " 'together',\n",
              " 'in',\n",
              " 'a',\n",
              " 'small',\n",
              " 'bowl',\n",
              " 'set',\n",
              " 'aside',\n",
              " 'whisk',\n",
              " 'together',\n",
              " 'butter',\n",
              " 'and',\n",
              " 'eggs',\n",
              " 'until',\n",
              " 'well',\n",
              " 'combined',\n",
              " 'then',\n",
              " 'stir',\n",
              " 'in',\n",
              " 'the',\n",
              " 'flour',\n",
              " 'mixture',\n",
              " 'fold',\n",
              " 'in',\n",
              " 'the',\n",
              " 'onion',\n",
              " 'green',\n",
              " 'bell',\n",
              " 'pepper',\n",
              " 'red',\n",
              " 'bell',\n",
              " 'pepper',\n",
              " 'cheddar',\n",
              " 'cheese',\n",
              " 'and',\n",
              " 'mushrooms',\n",
              " 'mix',\n",
              " 'well',\n",
              " 'the',\n",
              " 'batter',\n",
              " 'will',\n",
              " 'be',\n",
              " 'stiff',\n",
              " 'pour',\n",
              " 'batter',\n",
              " 'into',\n",
              " 'the',\n",
              " 'prepared',\n",
              " 'loaf',\n",
              " 'pan',\n",
              " 'bake',\n",
              " 'in',\n",
              " 'the',\n",
              " 'preheated',\n",
              " 'oven',\n",
              " 'until',\n",
              " 'a',\n",
              " 'toothpick',\n",
              " 'inserted',\n",
              " 'into',\n",
              " 'the',\n",
              " 'center',\n",
              " 'comes',\n",
              " 'out',\n",
              " 'clean',\n",
              " '50',\n",
              " 'minutes',\n",
              " 'to',\n",
              " '1',\n",
              " 'hour',\n",
              " 'cool',\n",
              " 'in',\n",
              " 'the',\n",
              " 'pan',\n",
              " 'for',\n",
              " '10',\n",
              " 'minutes',\n",
              " 'before',\n",
              " 'removing',\n",
              " 'to',\n",
              " 'cool',\n",
              " 'completely',\n",
              " 'on',\n",
              " 'a',\n",
              " 'wire',\n",
              " 'rack']"
            ]
          },
          "metadata": {},
          "execution_count": 61
        }
      ]
    },
    {
      "cell_type": "code",
      "source": [
        "tokenizer.tokenize(manual_recipes[0].lower())"
      ],
      "metadata": {
        "colab": {
          "base_uri": "https://localhost:8080/"
        },
        "id": "qv3Lw3IVrzsD",
        "outputId": "9e452adb-f175-4d8b-a1c3-7e84c46d1cb6"
      },
      "execution_count": null,
      "outputs": [
        {
          "output_type": "execute_result",
          "data": {
            "text/plain": [
              "['beat',\n",
              " '4',\n",
              " 'eggs',\n",
              " 'take',\n",
              " 'chopped',\n",
              " 'onions',\n",
              " 'and',\n",
              " 'chillis',\n",
              " 'and',\n",
              " 'beat',\n",
              " 'them',\n",
              " 'into',\n",
              " 'the',\n",
              " 'mixture',\n",
              " 'slice',\n",
              " 'up',\n",
              " '4',\n",
              " 'potatoes',\n",
              " 'and',\n",
              " 'lay',\n",
              " 'them',\n",
              " 'down',\n",
              " 'in',\n",
              " 'the',\n",
              " 'round',\n",
              " 'pan',\n",
              " 'add',\n",
              " 'salt',\n",
              " 'and',\n",
              " 'salsa',\n",
              " 'to',\n",
              " 'the',\n",
              " 'egg',\n",
              " 'mixture',\n",
              " 'pour',\n",
              " 'the',\n",
              " 'egg',\n",
              " 'mixture',\n",
              " 'in',\n",
              " 'the',\n",
              " 'pan',\n",
              " 'top',\n",
              " 'off',\n",
              " 'the',\n",
              " 'pan',\n",
              " 'with',\n",
              " 'chopped',\n",
              " 'mushrooms']"
            ]
          },
          "metadata": {},
          "execution_count": 64
        }
      ]
    },
    {
      "cell_type": "code",
      "source": [
        "for i in range(0,30):\n",
        "    reference = [tokenizer.tokenize((' ').join(recipes[i][1]).lower())]\n",
        "    candidate = tokenizer.tokenize(manual_recipes[i].lower())\n",
        "    score = sentence_bleu(reference, candidate)\n",
        "    print(score)"
      ],
      "metadata": {
        "colab": {
          "base_uri": "https://localhost:8080/"
        },
        "id": "Ojr2lxqbqs_0",
        "outputId": "ccc1fccd-ffd1-434a-f23d-91c21f9d337b"
      },
      "execution_count": null,
      "outputs": [
        {
          "output_type": "stream",
          "name": "stdout",
          "text": [
            "6.112140049091701e-79\n",
            "6.213854539426459e-232\n",
            "4.5448748989648775e-156\n",
            "3.92321576374293e-155\n",
            "3.0719463930635996e-81\n",
            "5.9249712840096255e-232\n",
            "9.445392120903733e-79\n",
            "1.0353469043490961e-81\n",
            "2.3993308477947133e-81\n",
            "2.0052179128824817e-155\n",
            "1.1200407237786664e-231\n",
            "1.3977492889919252e-155\n",
            "1.3349918140681065e-78\n",
            "9.930220944004365e-156\n",
            "3.935013960307403e-79\n",
            "0.0422068556347807\n",
            "4.7982895848202935e-79\n",
            "0.012780130372080622\n",
            "3.3249253376402507e-155\n",
            "0.017854352315099017\n",
            "0.039835865808864855\n",
            "2.2503535831624796e-155\n",
            "1.39691691770113e-155\n",
            "6.0546202615284936e-232\n",
            "0.040472625314981886\n",
            "4.540206139997931e-155\n",
            "1.4958679387116185e-78\n",
            "6.182539746409382e-79\n",
            "8.972141065609098e-232\n",
            "1.4865816848057656e-156\n"
          ]
        },
        {
          "output_type": "stream",
          "name": "stderr",
          "text": [
            "/usr/local/lib/python3.7/dist-packages/nltk/translate/bleu_score.py:552: UserWarning: \n",
            "The hypothesis contains 0 counts of 4-gram overlaps.\n",
            "Therefore the BLEU score evaluates to 0, independently of\n",
            "how many N-gram overlaps of lower order it contains.\n",
            "Consider using lower n-gram order or use SmoothingFunction()\n",
            "  warnings.warn(_msg)\n",
            "/usr/local/lib/python3.7/dist-packages/nltk/translate/bleu_score.py:552: UserWarning: \n",
            "The hypothesis contains 0 counts of 2-gram overlaps.\n",
            "Therefore the BLEU score evaluates to 0, independently of\n",
            "how many N-gram overlaps of lower order it contains.\n",
            "Consider using lower n-gram order or use SmoothingFunction()\n",
            "  warnings.warn(_msg)\n",
            "/usr/local/lib/python3.7/dist-packages/nltk/translate/bleu_score.py:552: UserWarning: \n",
            "The hypothesis contains 0 counts of 3-gram overlaps.\n",
            "Therefore the BLEU score evaluates to 0, independently of\n",
            "how many N-gram overlaps of lower order it contains.\n",
            "Consider using lower n-gram order or use SmoothingFunction()\n",
            "  warnings.warn(_msg)\n"
          ]
        }
      ]
    },
    {
      "cell_type": "code",
      "source": [
        "recipes[0][1]"
      ],
      "metadata": {
        "colab": {
          "base_uri": "https://localhost:8080/"
        },
        "id": "RuCPGdRiq7fV",
        "outputId": "fc503d8b-068d-4aa4-898e-0e8af89b64bd"
      },
      "execution_count": null,
      "outputs": [
        {
          "output_type": "execute_result",
          "data": {
            "text/plain": [
              "['Preheat an oven to 375 degrees F (190 degrees C).',\n",
              " 'Grease a 9x5-inch loaf pan.',\n",
              " 'Combine flour, baking powder, salt, and garlic powder together in a small bowl.',\n",
              " 'Set aside.',\n",
              " 'Whisk together butter and eggs until well combined, then stir in the flour mixture.',\n",
              " 'Fold in the onion, green bell pepper, red bell pepper, Cheddar cheese, and mushrooms.',\n",
              " 'Mix well, the batter will be stiff.',\n",
              " 'Pour batter into the prepared loaf pan.',\n",
              " 'Bake in the preheated oven until a toothpick inserted into the center comes out clean, 50 minutes to 1 hour.',\n",
              " 'Cool in the pan for 10 minutes before removing to cool completely on a wire rack.']"
            ]
          },
          "metadata": {},
          "execution_count": 58
        }
      ]
    },
    {
      "cell_type": "code",
      "source": [
        "manual_recipes[0]"
      ],
      "metadata": {
        "colab": {
          "base_uri": "https://localhost:8080/",
          "height": 53
        },
        "id": "tgr32EWUrDzG",
        "outputId": "243a83af-d48c-41c5-88da-22904b21bd06"
      },
      "execution_count": null,
      "outputs": [
        {
          "output_type": "execute_result",
          "data": {
            "text/plain": [
              "'Beat 4 eggs Take chopped onions and chillis and beat them into the mixture Slice up 4 potatoes and lay them down in the round pan Add salt and salsa to the egg mixture Pour the egg mixture in the pan Top off the pan with chopped mushrooms'"
            ],
            "application/vnd.google.colaboratory.intrinsic+json": {
              "type": "string"
            }
          },
          "metadata": {},
          "execution_count": 59
        }
      ]
    },
    {
      "cell_type": "code",
      "source": [
        "from nltk.corpus import stopwords"
      ],
      "metadata": {
        "id": "pPgXDEEirF3K"
      },
      "execution_count": 27,
      "outputs": []
    },
    {
      "cell_type": "code",
      "source": [
        "nltk.download('stopwords')"
      ],
      "metadata": {
        "colab": {
          "base_uri": "https://localhost:8080/"
        },
        "id": "tDIhHrHus38L",
        "outputId": "f2289fb6-0919-4dd8-ee73-40610c412f92"
      },
      "execution_count": 28,
      "outputs": [
        {
          "output_type": "stream",
          "name": "stderr",
          "text": [
            "[nltk_data] Downloading package stopwords to /root/nltk_data...\n",
            "[nltk_data]   Unzipping corpora/stopwords.zip.\n"
          ]
        },
        {
          "output_type": "execute_result",
          "data": {
            "text/plain": [
              "True"
            ]
          },
          "metadata": {},
          "execution_count": 28
        }
      ]
    },
    {
      "cell_type": "code",
      "source": [
        "[tokenizer.tokenize((' ').join(recipes[i][1]).lower())]"
      ],
      "metadata": {
        "colab": {
          "base_uri": "https://localhost:8080/"
        },
        "id": "fUJmYv20uLaT",
        "outputId": "f92cff81-f0c3-43a3-f451-e6c6ac3945a4"
      },
      "execution_count": null,
      "outputs": [
        {
          "output_type": "execute_result",
          "data": {
            "text/plain": [
              "[['add',\n",
              "  'the',\n",
              "  'sifted',\n",
              "  'dry',\n",
              "  'ingredients',\n",
              "  'sugar',\n",
              "  'and',\n",
              "  'salt',\n",
              "  'into',\n",
              "  'a',\n",
              "  'bowl',\n",
              "  'and',\n",
              "  'mix',\n",
              "  'around',\n",
              "  'and',\n",
              "  'around',\n",
              "  'with',\n",
              "  'a',\n",
              "  'whisk',\n",
              "  'or',\n",
              "  'cooking',\n",
              "  'chopsticks',\n",
              "  'add',\n",
              "  'the',\n",
              "  'heavy',\n",
              "  'cream',\n",
              "  'egg',\n",
              "  'and',\n",
              "  'dried',\n",
              "  'cranberries',\n",
              "  'and',\n",
              "  'mix',\n",
              "  'together',\n",
              "  'dust',\n",
              "  'the',\n",
              "  'counter',\n",
              "  'with',\n",
              "  'a',\n",
              "  'generous',\n",
              "  'amount',\n",
              "  'of',\n",
              "  'flour',\n",
              "  'and',\n",
              "  'roll',\n",
              "  'the',\n",
              "  'dough',\n",
              "  'into',\n",
              "  'a',\n",
              "  'ball',\n",
              "  'rotate',\n",
              "  'and',\n",
              "  'then',\n",
              "  'fold',\n",
              "  'several',\n",
              "  'times',\n",
              "  'while',\n",
              "  'flipping',\n",
              "  'then',\n",
              "  'make',\n",
              "  'into',\n",
              "  '2',\n",
              "  'cm',\n",
              "  'thick',\n",
              "  'either',\n",
              "  'cut',\n",
              "  'out',\n",
              "  'a',\n",
              "  'shape',\n",
              "  'with',\n",
              "  'a',\n",
              "  'cookie',\n",
              "  'cutter',\n",
              "  'or',\n",
              "  'cut',\n",
              "  'with',\n",
              "  'a',\n",
              "  'knife',\n",
              "  'leave',\n",
              "  'the',\n",
              "  'edges',\n",
              "  'as',\n",
              "  'is',\n",
              "  'so',\n",
              "  'that',\n",
              "  'nice',\n",
              "  'layers',\n",
              "  'will',\n",
              "  'appear',\n",
              "  'do',\n",
              "  'not',\n",
              "  'fix',\n",
              "  'the',\n",
              "  'shape',\n",
              "  'line',\n",
              "  'a',\n",
              "  'baking',\n",
              "  'tray',\n",
              "  'with',\n",
              "  'parchment',\n",
              "  'paper',\n",
              "  'place',\n",
              "  'the',\n",
              "  'pieces',\n",
              "  'of',\n",
              "  'scone',\n",
              "  'dough',\n",
              "  'and',\n",
              "  'bake',\n",
              "  'in',\n",
              "  'the',\n",
              "  'oven',\n",
              "  'for',\n",
              "  '12',\n",
              "  '15',\n",
              "  'minutes',\n",
              "  'at',\n",
              "  '190c',\n",
              "  'when',\n",
              "  'lightly',\n",
              "  'browned',\n",
              "  'they',\n",
              "  'are',\n",
              "  'done',\n",
              "  'when',\n",
              "  'finished',\n",
              "  'baking',\n",
              "  'put',\n",
              "  'on',\n",
              "  'a',\n",
              "  'rack',\n",
              "  'to',\n",
              "  'let',\n",
              "  'them',\n",
              "  'cool',\n",
              "  'you',\n",
              "  'can',\n",
              "  'eat',\n",
              "  'as',\n",
              "  'is',\n",
              "  'opening',\n",
              "  'up',\n",
              "  'the',\n",
              "  'nice',\n",
              "  'crevices',\n",
              "  'and',\n",
              "  'eating',\n",
              "  'with',\n",
              "  'plenty',\n",
              "  'of',\n",
              "  'clotted',\n",
              "  'cream',\n",
              "  'and',\n",
              "  'jam',\n",
              "  'is',\n",
              "  'the',\n",
              "  'english',\n",
              "  'style',\n",
              "  'enjoy',\n",
              "  'with',\n",
              "  'delicious',\n",
              "  'tea']]"
            ]
          },
          "metadata": {},
          "execution_count": 79
        }
      ]
    },
    {
      "cell_type": "code",
      "source": [
        "scores_new=[]\n",
        "for i in range(0,30):\n",
        "    reference_words = tokenizer.tokenize((' ').join(recipes[i][1]).lower())\n",
        "    candidate_words = tokenizer.tokenize(manual_recipes[i].lower())\n",
        "    reference=[[word for word in reference_words if word not in stopwords.words('english')]]\n",
        "    candidate=[word for word in candidate_words if word not in stopwords.words('english')]\n",
        "    score = sentence_bleu(reference, candidate)\n",
        "    scores_new.append(score)\n",
        "    print(score)\n",
        "\n",
        "sum(scores_new)/30"
      ],
      "metadata": {
        "colab": {
          "base_uri": "https://localhost:8080/"
        },
        "id": "KYVYPAHgslxu",
        "outputId": "dc916c97-4b04-46f0-d2cf-0646d33ca07c"
      },
      "execution_count": null,
      "outputs": [
        {
          "output_type": "stream",
          "name": "stdout",
          "text": [
            "2.4859764120409147e-232\n",
            "0\n",
            "7.113723193210003e-233\n",
            "2.9772305526519224e-155\n",
            "1.0470164654241766e-157\n",
            "0\n",
            "1.9923040130587043e-155\n",
            "3.30976870473912e-235\n",
            "7.629485554531981e-158\n",
            "4.092476224452163e-232\n",
            "8.510469113101058e-232\n",
            "8.908977619226167e-156\n",
            "4.474851359555176e-155\n",
            "3.4063746951522205e-232\n",
            "1.2225013664382837e-155\n",
            "2.8606169259655284e-155\n",
            "1.4762692084236539e-155\n",
            "3.886624338460091e-79\n",
            "3.4283655138607106e-155\n",
            "0.028537611000242963\n",
            "0.03371732043117556\n",
            "1.411423486658985e-155\n",
            "2.2386076440877334e-232\n",
            "4.1088273654533465e-232\n",
            "1.2378317996679814e-78\n",
            "1.0547133165639062e-231\n",
            "3.05843099333269e-155\n",
            "2.320195020309267e-155\n",
            "0\n",
            "5.515013042428333e-233\n"
          ]
        },
        {
          "output_type": "execute_result",
          "data": {
            "text/plain": [
              "0.002075164381047284"
            ]
          },
          "metadata": {},
          "execution_count": 91
        }
      ]
    },
    {
      "cell_type": "code",
      "source": [
        "[word for word in tokenizer.tokenize((' ').join(recipes[0][1]).lower()) if word not in stopwords.words('english')]"
      ],
      "metadata": {
        "colab": {
          "base_uri": "https://localhost:8080/"
        },
        "id": "v07H47oRs1qR",
        "outputId": "661c92f5-47a0-4f2f-ed55-ec0231d91245"
      },
      "execution_count": null,
      "outputs": [
        {
          "output_type": "execute_result",
          "data": {
            "text/plain": [
              "['preheat',\n",
              " 'oven',\n",
              " '375',\n",
              " 'degrees',\n",
              " 'f',\n",
              " '190',\n",
              " 'degrees',\n",
              " 'c',\n",
              " 'grease',\n",
              " '9x5',\n",
              " 'inch',\n",
              " 'loaf',\n",
              " 'pan',\n",
              " 'combine',\n",
              " 'flour',\n",
              " 'baking',\n",
              " 'powder',\n",
              " 'salt',\n",
              " 'garlic',\n",
              " 'powder',\n",
              " 'together',\n",
              " 'small',\n",
              " 'bowl',\n",
              " 'set',\n",
              " 'aside',\n",
              " 'whisk',\n",
              " 'together',\n",
              " 'butter',\n",
              " 'eggs',\n",
              " 'well',\n",
              " 'combined',\n",
              " 'stir',\n",
              " 'flour',\n",
              " 'mixture',\n",
              " 'fold',\n",
              " 'onion',\n",
              " 'green',\n",
              " 'bell',\n",
              " 'pepper',\n",
              " 'red',\n",
              " 'bell',\n",
              " 'pepper',\n",
              " 'cheddar',\n",
              " 'cheese',\n",
              " 'mushrooms',\n",
              " 'mix',\n",
              " 'well',\n",
              " 'batter',\n",
              " 'stiff',\n",
              " 'pour',\n",
              " 'batter',\n",
              " 'prepared',\n",
              " 'loaf',\n",
              " 'pan',\n",
              " 'bake',\n",
              " 'preheated',\n",
              " 'oven',\n",
              " 'toothpick',\n",
              " 'inserted',\n",
              " 'center',\n",
              " 'comes',\n",
              " 'clean',\n",
              " '50',\n",
              " 'minutes',\n",
              " '1',\n",
              " 'hour',\n",
              " 'cool',\n",
              " 'pan',\n",
              " '10',\n",
              " 'minutes',\n",
              " 'removing',\n",
              " 'cool',\n",
              " 'completely',\n",
              " 'wire',\n",
              " 'rack']"
            ]
          },
          "metadata": {},
          "execution_count": 72
        }
      ]
    },
    {
      "cell_type": "code",
      "source": [
        "[word for word in tokenizer.tokenize(manual_recipes[0].lower()) if word not in stopwords.words('english')]"
      ],
      "metadata": {
        "colab": {
          "base_uri": "https://localhost:8080/"
        },
        "id": "4h6CQPzPtJcj",
        "outputId": "2a013dab-bfcd-4619-e5c7-869c60169c1f"
      },
      "execution_count": null,
      "outputs": [
        {
          "output_type": "execute_result",
          "data": {
            "text/plain": [
              "['beat',\n",
              " '4',\n",
              " 'eggs',\n",
              " 'take',\n",
              " 'chopped',\n",
              " 'onions',\n",
              " 'chillis',\n",
              " 'beat',\n",
              " 'mixture',\n",
              " 'slice',\n",
              " '4',\n",
              " 'potatoes',\n",
              " 'lay',\n",
              " 'round',\n",
              " 'pan',\n",
              " 'add',\n",
              " 'salt',\n",
              " 'salsa',\n",
              " 'egg',\n",
              " 'mixture',\n",
              " 'pour',\n",
              " 'egg',\n",
              " 'mixture',\n",
              " 'pan',\n",
              " 'top',\n",
              " 'pan',\n",
              " 'chopped',\n",
              " 'mushrooms']"
            ]
          },
          "metadata": {},
          "execution_count": 78
        }
      ]
    },
    {
      "cell_type": "code",
      "source": [
        "scores=[]\n",
        "for i in range(0,30):\n",
        "    reference_words = tokenizer.tokenize((' ').join(recipes[i][1]).lower())\n",
        "    candidate_words = tokenizer.tokenize(manual_recipes[i].lower())\n",
        "    reference=[[word for word in reference_words if word not in stopwords.words('english')]]\n",
        "    candidate=[word for word in candidate_words if word not in stopwords.words('english')]\n",
        "    score = sentence_bleu(reference, candidate,weights=(1, 0, 0, 0))\n",
        "    scores.append(score)\n",
        "    print(score)\n",
        "sum(scores)/30"
      ],
      "metadata": {
        "colab": {
          "base_uri": "https://localhost:8080/"
        },
        "id": "ohR9MN-_te9a",
        "outputId": "c53efeeb-d601-42d8-bae7-95b811b4c2db"
      },
      "execution_count": null,
      "outputs": [
        {
          "output_type": "stream",
          "name": "stdout",
          "text": [
            "0.05332583281277966\n",
            "0\n",
            "0.01279059943051977\n",
            "0.21627378751738768\n",
            "0.0007669862762835561\n",
            "0\n",
            "0.11485645600898166\n",
            "8.318903153841491e-05\n",
            "0.0005058250674319905\n",
            "0.07735757963092106\n",
            "0.047619047619047616\n",
            "0.07623236453132194\n",
            "0.2753623188405797\n",
            "0.06411247247180409\n",
            "0.07675487729786945\n",
            "0.16979051130989647\n",
            "0.10164838309391117\n",
            "0.07953206274186853\n",
            "0.21983042201969832\n",
            "0.09623323025897448\n",
            "0.12888873991727878\n",
            "0.11539890338663339\n",
            "0.043443485862611285\n",
            "0.03651247933917972\n",
            "0.23030933063403922\n",
            "0.20468268826949548\n",
            "0.13509330929465999\n",
            "0.14908382980100215\n",
            "0\n",
            "0.01603450772881568\n"
          ]
        },
        {
          "output_type": "execute_result",
          "data": {
            "text/plain": [
              "0.09141744067315107"
            ]
          },
          "metadata": {},
          "execution_count": 89
        }
      ]
    },
    {
      "cell_type": "code",
      "source": [
        "man_rec={'68df2fc142.jpg':\"Dry the red shiso leaves Put the dried red shiso in a grinder Put the dried red shiso in a dish\",\n",
        "'63de829e6c.jpg':\"Put butter & sprinkle cocoa powder on baking dish Melt butter and chocolate in a bowl  Add egg then flour and nuts Pour all ingredient to a ramekin and bake Top with icing sugar\",\n",
        "'87cd378a41.jpg':\"Add sugar, and salt into a bowl, and mix Add the heavy cream, egg, and dried cranberries, and mix Preheat oven to 350 degrees Put the batter in the molds and bake for 30 minutes in oven\",\n",
        "'75b65dfcf4.jpg':\"Sift 4 cups of all-purpose floor into a mixing bowl  Beat 3 eggs in a separate bowl Add cup melted butter into the egg mixture Slowly add 3 cups sugar to the wet mixture Sift the floor and 2 teaspoons of cinnamon into the wet mixture Add 6 mashed bananas to the mix and fold them into the batter Add 2 teaspoons vanilla extract Finally, add 1 cup chopped walnuts and sprinkle cup white sugar on top Preheat oven to 350F  Heat the batter in a baking tray for 30 minutes\",\n",
        "'1db398fc53.jpg':\"Heat up 2 tablespoons vegetable oil in a big pan Once the vegetable oil is hot, add 4 slices of smoked bacon, cut into small strips (reserve drippings) Saute until the bacon turns light brown Add 1/3 cup dried red kidney beans and ⅓ cups of dried black beans, rinsed and soaked overnight Also add 1 1/2 cups string beans, topped, tailed, and cut in 1inch diagonal lengths to the pan Cook until the beans turn slightly golden on the edges Add white vinegar, honey, dijon-style mustard to the mixture Add salt and black pepper to taste Garnish with a lemon wedge\",\n",
        "'9db77658ed.jpg':\"Heat up unsalted butter in a pan over medium heat As soon as the butter heats up, add ½ cup of light brown sugar Add the sliced roma apples to the mixture along twitch the fresh blueberries Let the fruits mix thoroughly with the caramelized sugar Pour the wet mix over quartered poundcake Optionally serve the dish with vanilla ice cream\",\n",
        "'5735ac707c.jpg':\"Boil black beans and fresh corn kernels and keep them aside Finely chop half red onions, half red bell peppers, one avocado and keep them aside Cut half a lime in slices Make a dough using flour and potatoes. Add salt to it as per preference. Make a corn flour batter Make a patty from the flour, dip it in the batter and coat it with breadcrumbs Frying the patty until golden brown Add pepper as seasoning As the patty as base, add the veggies and beans on top of it. Serve it along with sliced lime and squeeze one tablespoon of lemon juice onto the dish and finish the dish with some finely chopped fresh cilantro\",\n",
        "'c68cea19b5.jpg':\"Preheat oven to 350 degrees Fahrenheit Cream together unsalted butter, cup white sugar, and 1 cup brown sugar Beat in one egg and one egg yolk. Add ½ teaspoon baking soda, ½ teaspoon salt, and1 tablespoon vanilla extract Add the all-purpose flour and chocolate chips and mix it well Cover the baking tray with a baking sheet. Make the dough balls and place it on the oven tray Bake for 10 minutes in the oven\",\n",
        "'eeb173fbde.jpg':\"Preheat the oven to 350 degrees Fahrenheit. Pour melted butter Whisk the all-purpose flour, sugar, baking powder, milk and almond extract together Beat a large egg and add it to the mixture Pour batter over the melted butter Add the cherry pie filling and the dark sweet cherries Add five bread slices on top of the filling Bake till golden brown\",\n",
        "'17e5ced833.jpg':\"First, cook the farfalle pasta until al dente. Rehydrate the sun-dried tomatoes in water for 5 minutes Mash the canned tomatoes Add italian herbs, olive oil and minced garlic Toast the pine nuts Add kosher sea salt and and freshly ground black pepper to the tomato sauce Drain the pasta and pour it into the tomato sauce. Add grated parmesan cheese and fresh basil to the pasta Add basil to the pasta\",\n",
        "'b5be0b054a.jpg':\"Cook brown rice and keep it aside Thinly slice 3 medium carrots Chop the green pepper, yellow pepper, onions, and red pepper Boil one cup of corn and keep it aside Mince the garlic cloves Rinse and drain the black-eyed peas Boil the peas and keep them aside Add the olive oil to a hot pot and saute the vegetables along with the diced tomatoes Adding salt and pepper to the vegetables when cooked Add the beans, some fresh parsley, dried thyme, corn and rice to the pot and give it a mix Finish the dish by adding some hot sauce and red pepper flakes as per taste and give the mixture a toss before serving\",\n",
        "'356c7802c1.jpg':\"Preheat the oven to 425 degrees fahrenheit and line a large baking sheet with foil. Mix butter with garlic, salt, and parsley until well combined. Apply the butter and some sour cream on the french loaf  Add some artichoke hearts on top of the loaf Add shredded monterey jack cheese and some grated parmesan cheese on top of the bread You can also add shredded cheddar cheese Sprinkle some sesame seeds on top Bake until loaf has golden edges or for about 10 minutes.\",\n",
        "'43a9c3da7e.jpg':\"Preheat oven to 475 degrees Mix ground beef and sloppy joe sauce in a bowl Chop onion and mix in the bowl Chop and remove seeds from green bell pepper and mix in the bowl Season with garlic salt and black pepper Roll biscuit dough flat with a rolling pin Cut flattened dough into squares Fill tray with alternating layers of square doughs and filling Top with cheddar cheese Place tray in oven and cook for 30 minutes\",\n",
        "'0e8bec249f.jpg':\"Mix shortening, sugar, brown sugar, egg and milk in a bowl When the consistency is even, pour flour into the mixture Add vanilla, baking soda, salt and peanut butter in the batter Mix well until consistency is even Cut dough into heart shapes with a cookie cutter Preheat oven to 420 degrees Place cookies in oven and bake for 30 minutes Take cookies out of oven and leave to cool down for 2 minutes Before the cookies harden, gently press Hershey chocolate kisses into the cookie Leave cookies to cool down for 10 more minutes\",\n",
        "'e7e10e66d8.jpg':\"Boil red potatoes in water for 10 minutes Place soft potatoes in bowl and mash until there are no chunks Pour sour cream and whipping cream into the mixture Melt butter in pan and pour melted butter into the mixture Mix well Season with steak seasoning\",\n",
        "'d38ed00f48.jpg':\"Mix sour cream, cream cheese and lemon juice in a bowl Sprinkle diced pickled jalapeno pepper and onion flakes on top Season with salt and dry mustard Mix well\",\n",
        "'c6b596c074.jpg':\"Grind cubed cantaloupe, lemon juice and sugar substitute in mixer with ice cubes\",\n",
        "'a865e07984.jpg':\"Mix all-purpose flour, sugar, baking soda and salt in a bowl Add vanilla, light brown sugar and butter into the batter Mix batter in food processor Put batter in a fridge and let cool for 30 minutes Put plums, orange, orange juice, vegetable oil and vinegar and grind with mixer Take dough out of fridge and flatten in a round pan Add layer of dough on the rim of the pan as well Pour plum filling on top of the dough Cover filling with another layer of dough Preheat oven to 420 degrees Place in oven and heat for 30 minutes Take pan out of oven and leave to cool down for 10 minutes\"}"
      ],
      "metadata": {
        "id": "rojm6s453LOb"
      },
      "execution_count": 5,
      "outputs": []
    },
    {
      "cell_type": "code",
      "source": [
        "man_rec['63de829e6c.jpg']"
      ],
      "metadata": {
        "colab": {
          "base_uri": "https://localhost:8080/",
          "height": 35
        },
        "id": "8RR-HjZkqk--",
        "outputId": "7b068c9d-2435-42ef-8a3d-4d8996ab6398"
      },
      "execution_count": 7,
      "outputs": [
        {
          "output_type": "execute_result",
          "data": {
            "text/plain": [
              "'Put butter & sprinkle cocoa powder on baking dish Melt butter and chocolate in a bowl  Add egg then flour and nuts Pour all ingredient to a ramekin and bake Top with icing sugar'"
            ],
            "application/vnd.google.colaboratory.intrinsic+json": {
              "type": "string"
            }
          },
          "metadata": {},
          "execution_count": 7
        }
      ]
    },
    {
      "cell_type": "code",
      "source": [
        "ref_rec={'f7da1e9521.jpg':['Preheat an oven to 375 degrees F (190 degrees C).', 'Grease a 9x5-inch loaf pan.', 'Combine flour, baking powder, salt, and garlic powder together in a small bowl.', 'Set aside.', 'Whisk together butter and eggs until well combined, then stir in the flour mixture.', 'Fold in the onion, green bell pepper, red bell pepper, Cheddar cheese, and mushrooms.', 'Mix well, the batter will be stiff.', 'Pour batter into the prepared loaf pan.', 'Bake in the preheated oven until a toothpick inserted into the center comes out clean, 50 minutes to 1 hour.', 'Cool in the pan for 10 minutes before removing to cool completely on a wire rack.'],\n",
        "'934da5a455.jpg':['Mash ripe banana well, add in whisk eggs.', 'Warm non stick or cast iron pan to medium, spray with oil.', 'Cook silver dollar size pancakes 30 seconds on each side and serve.', '(We use a small amount of maple syrup or agave on our pancakes).'],\n",
        "'9db77658ed.jpg':['Heat oven to 350 degrees.', 'Coat a 2-qt deep baking dish with nonstick cooking spray.', 'Set aside.', 'Place half of pound cake in a food processor.', 'Pulse until no large pieces remain.', 'Add second half of pound cake and pulse until crumbs are formed.', 'Transfer to a large bowl.', 'Stir in melted butter, almonds and 1 tsp pumpkin pie spice until blended.', 'In a second large bowl, combine apple slices, blueberries, brown sugar and remaining 1/2 tsp pumpkin pie spice.', 'Toss to combine.', 'Sprinkle 1/2 c of crumb mixture into bottom of prepared dish, coating evenly.', 'Top with half of the apple mixture and half of the remaining crumb mixture.', 'Repeat, ending with remaining crumb mixture on top.', 'Dot top of mixture with the cold butter pieces and cover dish with foil.', 'Bake at 350 degrees for 30 minutes, then uncover and continue to bake for another 30 minutes.', 'Remove from oven; cool at least 15 minutes before serving with ice cream on the side, if desired.'],\n",
        "'75b65dfcf4.jpg':['Preheat oven to 300 degrees F (150 degrees C).', 'Grease four 7x3 inch loaf pans.', 'In a small bowl, stir together 1/4 cup white sugar and 1 teaspoon cinnamon.', 'Dust pans lightly with cinnamon and sugar mixture.', 'In a large bowl, cream butter and 3 cups sugar.', 'Mix in eggs, mashed bananas, sour cream, vanilla and cinnamon.', 'Mix in salt, baking soda and flour.', 'Stir in nuts.', 'Divide into prepared pans.', 'Bake for 1 hour, until a toothpick inserted in center comes out clean.', 'I know four loaves is a lot, but remember you can freeze this.'],\n",
        "'995e7b9920.jpg':['Prepare the Dough In a small bowl, stir the yeast and 1/2 teaspoon of the sugar into the warm milk.', 'Let stand until foamy, about 5 minutes.', 'Prepare the Dough In a large bowl, whisk the 1 1/2 cups of all-purpose flour with the buckwheat flour, salt and the remaining 1 tablespoon of sugar.', 'Stir in the yeast mixture, beaten egg and melted butter and knead until a smooth dough forms.', 'Transfer the dough to a lightly oiled bowl, cover with plastic wrap and let stand in a warm place until doubled in volume, about 1 1/4 hours.', 'Punch down the dough, cover and let rise again until doubled, about 1 1/4 hours longer.', 'Meanwhile, Prepare the Filling In a medium saucepan, cover the potato chunks with water and bring to a boil.', 'Add a large pinch of salt and cook over moderately high heat until tender, about 8 minutes.', 'Drain the potato and return the chunks to the pan, shaking over the heat to dry them out, about 10 seconds.', 'Pass the warm potatoes through a ricer into a large bowl or mash them with a potato masher.', 'Meanwhile, Prepare the Filling In a medium skillet, heat the 2 tablespoons of oil.', 'Add the leek and a pinch of salt and cook over moderate heat, stirring occasionally, until softened, about 6 minutes.', 'Remove from the heat and stir in the butter.', 'Add the leek to the potatoes along with the cream cheese and heavy cream, stir well and season with salt and pepper.', 'Meanwhile, Prepare the Filling Punch down the dough again.', 'Transfer to a lightly floured work surface and shape it into a rectangle.', 'Roll the dough out into a 8-by-20-inch rectangle, about 1/8 inch thick.', 'Cut the dough into eight 4-by-5-inch rectangles.', 'Set 1 rectangle with a long side toward you and spoon 1/4 cup of the potato filling on the top third; leave a 1/3-inch border on the top and sides.', 'Bring the bottom of the dough up and over the filling, fold all the sides over themselves and press to seal.', 'Repeat to form the remaining knishes.', 'Brush the knishes with the beaten egg, coating the seams well.', 'Place the knishes on a parchment paperlined baking sheet and freeze for 10 minutes.', 'Meanwhile, Prepare the Filling Preheat the oven to 350.', 'In a medium saucepan, heat 1 1/2 inches of vegetable oil to 375.', 'Set a wire rack over a rimmed baking sheet near the stove.', 'Fry 2 knishes at a time, turning them a few times, until richly browned, about 2 minutes.', 'Using a slotted spoon, transfer the knishes to the rack to drain.', 'Keep the fried knishes hot in the oven.', 'Meanwhile, Prepare the Filling Cut the knishes on the diagonal into 2 1/2-inch pieces.', 'Top with sour cream, dill, red onion and caviar and serve right away.'],\n",
        "'d38ed00f48.jpg':['Combine all ingredients and beat until smooth.', 'It is recommended that this dip is chilled for at least 6 hours before serving to properly blend the flavors.'],\n",
        "'a702563926.jpg':['Preheat oven to 350 degrees F (175 degrees C).', 'Lay crescent dough flat on the bottom of a square cake pan and bake according to package directions.', 'Meanwhile, brown the ground beef in a large skillet over medium high heat.', 'Add the taco seasoning and stir together well.', 'When dough is done, remove from oven and place meat mixture on top, then layer with sour cream and cheese, and then top off with the crushed nacho chips.', 'Return to oven and bake at 350 degrees F (175 degrees C) for 10 minutes, or until cheese has melted.'],\n",
        "'f59d0e69db.jpg':['Prepare cake mixes and bake according to package directions (any size pan).', 'Prepare pudding according to package directions and chill until ready to assemble.', 'Crumble sandwich cookies in small batches in a food processor, scraping often.', 'Set aside all but 1/4 cup.', 'To the 1/4 cup add a few drops of green food coloring and mix.', 'When cakes are cooled to room temperature, crumble them into a large bowl.', 'Toss with 1/2 of the remaining cookie crumbs, and the chilled pudding.', \"You probably won't need all of the pudding, you want the cake to be just moist, not soggy.\", 'Line kitty litter box with the kitty litter liner.', 'Put cake mixture into box.', 'Put half of the unwrapped tootsie rolls in a microwave safe dish and heat until softened.', 'Shape the ends so that they are no longer blunt, and curve the tootsie rolls slightly.', 'Bury tootsie rolls randomly in the cake and sprinkle with half of the remaining cookie crumbs.', 'Sprinkle a small amount of the green colored cookie crumbs lightly over the top.', 'Heat 3 or 4 of the tootsie rolls in the microwave until almost melted.', 'Scrape them on top of the cake and sprinkle lightly with some of the green cookie crumbs.', 'Heat the remaining tootsie rolls until pliable and shape as before.', 'Spread all but one randomly over top of cake mixture.', 'Sprinkle with any remaining cookie crumbs.', 'Hang the remaining tootsie roll over side of litter box and sprinkle with a few green cookie crumbs.', 'Serve with the pooper scooper for a gross Halloween dessert.'],\n",
        "'73ef600000.jpg':['Heat 1 tablespoon oil in a large skillet over medium-high heat.', 'Cook and stir onions until they soften and begin to brown at the edges, 8 to 10 minutes.', 'Add the garlic and cook for one minute.', 'Transfer mixture to a slow cooker.', 'Cover and set cooker to Low.', 'Mix together paprika, salt, and pepper in a large bowl.', 'Toss the meat cubes in the paprika mixture until evenly coated.', 'Heat one tablespoon of the oil in the skillet over medium-high heat.', 'Put a third of the beef cubes into the skillet and cook until nicely browned on all sides.', 'Transfer to the slow cooker.', 'Pour 2 tablespoons of water into the skillet and scrape the browned bits from the pan; pour liquid into the slow cooker.', 'This prevents the paprika from burning when you brown the next batches of beef.', 'Add another tablespoon of oil to the skillet and cook the next batch the same way; repeat for the third batch.', 'Stir the tomato paste and the rest of the water into the slow cooker; cover.', 'Cook on High for 4 to 5 hours (or on Low for 6 to 9 hours).', 'Fill a large pot with lightly salted water and bring to a rolling boil over high heat.', 'Stir in the egg noodles, and cook uncovered, stirring occasionally, until the noodles have cooked through, but are still firm to the bite, about 5 minutes.', 'Drain.', 'Serve goulash over noodles with a dollop of sour cream and a sprig of parsley.'],\n",
        "'4d05bd5790.jpg':['To prepare salsa, combine the first 13 ingredients in a medium bowl; stir well.', 'Cover and chill 1 hour.Prepare grill.To prepare shrimp, place butter, 2 teaspoons juice, 1/4 teaspoon salt, garlic, and shrimp in a large bowl; toss to coat.', 'Thread 4 shrimp onto each of 6 (12-inch) skewers.', 'Place kebabs on a grill rack coated with cooking spray; grill for 3 minutes on each side or until shrimp are done.', 'Serve with salsa and lime wedges.', 'Garnish with mint sprigs, if desired.'],\n",
        "'2478e0c174.jpg':['Cut edge from top of pita; fill with lettuce, meats, tomatoes and cheese.', 'Drizzle with dressing; wrap in plastic wrap.', 'Refrigerate until ready to serve.'],\n",
        "'74a1559c92.jpg':['In a large mixing bowl, combine flour, soda, and salt.', 'In a separate bowl, beat ginger, butter, and 1 cup sugar until light and fluffy.', 'Beat in molasses and egg.', 'Gently fold in flour mixture until just combined.', 'Chill for 1 hour.', 'Preheat oven to 350 degrees F (175 degrees C).', 'Roll dough into 1 1/2 inch balls and then roll them in sugar.', 'Place 2 inches apart on ungreased baking sheets.', 'Bake until edges start to brown, about 15 minutes.', 'Centers will be slightly soft.', 'Let stand on cookie sheets 1 minute and remove to racks to cool completely.'],\n",
        "'0e8bec249f.jpg':['Preheat oven to 375 degrees.', 'In mixer, beat shortening and peanut butter until well blended; Blend in sugars and beat until light and fluffy.', 'Add egg, milk and vanilla; Beat well.', 'Stir together flour, baking soda and salt; gradually mix in peanut butter mixture.', 'Shape dough into 1-inch balls and rollin additional sugar.', 'Place on ungreased cookie sheet and bake 8-10 minutes or until lightly browned.', \"Immediately place a Hershey's Kiss on each cookie and press down slightly.\"],\n",
        "'7673c466bc.jpg':['Brush each chicken breast with olive oil.', 'Sprinkle with blackened seasoning.', 'Heat a cast iron skillet over high heat.', 'Cook each chicken breast 1 1/2 to 2 minutes, until charred and cooked through.', 'Remove chicken and keep warm.', 'Reduce heat to medium high.', 'Add about 1 tablespoon of olive oil to the pan.', 'Add sliced peppers and onions and cook, stirring occasionally, until crisp tender, about 45 minutes.', 'Slice the chicken and serve with peppers and onions in tortillas with toppings of your choice.', 'Enjoy!'],\n",
        "'a865e07984.jpg':['Preheat oven to 350 F. Grease and line a 10 inch round cake pan with parchment paper.', 'Set pan aside.', 'Remove pit from plums and cut them into 1 inch wedges.', 'Set plums aside.', 'Sift flour, sugar, baking soda and salt into a medium size bowl.', 'In a separate bowl add orange zest and juice, vegetable oil, vinegar and vanilla then mix until combined.', 'Pour liquid ingredients over dry ingredients and stir with whisk until lump free, being careful not to over mix.', 'Pour batter into the cake pan and arrange plum pieces in a single layer on top of the batter.', 'Set aside.', 'For the crumble topping add flour, brown sugar and salt into a medium sized bowl then mix together with your fingers.', 'Add butter pieces and orange zest.', 'With a pastry blender or with your fingers press the butter into the flour mixture until it resembles coarse crumbs.', 'Sprinkle on top of of cake in an even layer.', 'Bake for 40 to 45 minutes or until cake is golden in color, the sides have started to pull away from the pan and a toothpick inserted in the center comes out clean.', 'Remove pan from oven and put it on a cooling rack for at least 20 minutes before removing cake from pan.'],\n",
        "'17e5ced833.jpg':['UP TO 1 DAY AHEAD: Combine all ingredients except pasta, salt and pepper in a large bowl.', 'Place in a covered container and refrigerate overnight.', 'BEFORE SERVING:.', 'Place sauce in a large bowl and bring to room temperature.', 'Cook pasta in a large pot to al dente following package instructions, about 12 minutes.', 'Drain pasta and add it to the tomato mixture.', 'Toss well to combine.', 'Season with salt and pepper to taste.', 'Serve with additional Parmesan cheese on the side.'],\n",
        "'1db398fc53.jpg':['Drain the soaked black and red beans separately in a strainer.', 'In two medium saucepans, bring 5 cups of water (2 1/2 cups in each) to a boil.', 'Add the black beans to one pot and the red beans to another, reduce the heat under both to medium, and simmer for about 45 minutes, until the beans are tender but not soft.', 'Drain the beans separately in a colander and set aside, covered.', 'Bring the remaining 3 cups of lightly salted water to a boil in one of the saucepans, and fill a large bowl with cold water and add several ice cubes to it.', 'Cook the string beans for 3 to 4 minutes, depending on their size, until they are tender but still bright green.', 'Immediately drain them and plunge them into the ice water to retain their green color.', 'Drain and dry on paper towels.', 'In a medium heavy skillet cook the bacon strips over medium heat until crisp.', 'Remove the bacon with a slotted spoon and drain briefly on paper towels.', 'In a small bowl, measure 1 tablespoon of the bacon fat and whisk it together with the remaining ingredients (except lemon wedges).', 'In a large serving bowl, combine all the beans and drizzle the dressing over.', 'Toss gently just to coat all the ingredients evenly, crumble the bacon over the top and serve while still slightly warm, Garnish with lemon wedges.'],\n",
        "'c68cea19b5.jpg':['Preheat the oven to 325 degrees F (165 degrees C).', 'Grease cookie sheets or line with parchment paper.', 'Sift together the flour, baking soda and salt; set aside.', 'In a medium bowl, cream together the melted butter, brown sugar and white sugar until well blended.', 'Beat in the vanilla, egg, and egg yolk until light and creamy.', 'Mix in the sifted ingredients until just blended.', 'Stir in the chocolate chips by hand using a wooden spoon.', 'Drop cookie dough 1/4 cup at a time onto the prepared cookie sheets.', 'Cookies should be about 3 inches apart.', 'Bake for 15 to 17 minutes in the preheated oven, or until the edges are lightly toasted.', 'Cool on baking sheets for a few minutes before transferring to wire racks to cool completely.'],\n",
        "'63de829e6c.jpg':['butter & sprinkle cocoa powder on ramekin or any baking dish', 'melt butter and chocolate in a bowl over hot water,stir until smooth', 'gradually stir in egg ,then flour & nut', 'pour all ingredient to a ramekin and bake at 220C /440F for 12 -15 minute', 'Once its cool top with icing sugar', 'BELOW ARE ANOTHER CHOCOLATE LAVA RECIPES, I AM GLAD TO SHARE WITH YOU'],\n",
        "'eeb173fbde.jpg':['Preheat oven to 350 degrees F. In a large bowl stir together pie filling, cherries, and 2 tablespoons flour.', 'Stir in almond extract.', 'Place in a lightly greased 8-inch-square baking dish.', 'Trim crusts off of all of the bread slices; cut each slice into 5 strips.', 'Arrange bread strips over fruit mixture.', 'In a small bowl stir together remaining 2 tablespoons flour, sugar, and remaining 3 ingredients.', 'Drizzle over bread strips.', 'Bake at 350 degrees F for 35 to 45 minutes or until golden and bubbly.'],\n",
        "'0c0f50700f.jpg':['Heat oven to 350 F. Grease regular-size muffin tins with baking spray or line 14 muffin cups with paper baking cups.', 'In a large bowl or the bowl of a stand mixer, rub sugar and grapefruit zest together with fingers until well-combined and fragrant.', 'Add oil, poppy seeds, grapefruit juice, vanilla and egg.', 'Beat on low speed until just combined.', 'In a separate large bowl, whisk together flours, baking powder and salt.', 'Into the grapefruit-poppy seed mixture, alternately stir in flour mixture and milk, beginning and ending with flour mixture, until just combined.', 'Pour batter into prepared muffin tins.', 'Bake 20 minutes until a toothpick inserted in the center of a muffin comes out clean.', 'Transfer muffins to a cooling rack to cool completely.', 'In a small bowl, combine ingredients for glaze, adding more grapefruit juice or powdered sugar as needed to achieve desired consistency.', 'Dip the top of each muffin in glaze, then return to cooling rack (or a sheet of parchment paper) so glaze can drip and set.'],\n",
        "'356c7802c1.jpg':['Preheat over to 350F.', 'Melt butter in a skillet over medium heat.', 'Add garlic and sesame seeds.', 'Saute until lightly browned.', 'Remove from heat and stir in artichoke, Monterey jack, parmesan and sour cream.', 'Cut bread in half lengthwise.', 'Scoop out center of each piece, leaving a 1 inch shell.', 'Add approximately 1/2 of the removed bread pieces to the artichoke mixture.', 'Stir to blend.', 'Spoon artichoke mixture into french bread shells and sprinkle with cheddar cheese.', 'Place on baking sheet and cover with foil.', 'Bake for 25 minutes.', 'Remove foil and bake 5 minutes more.', 'Cool slightly and cut into slices.'],\n",
        "'68df2fc142.jpg':['Dry the red shiso at the same time as drying umeboshi.', 'Put the dried red shiso in a food mill to finely grind it up.', 'How To Preserve Red Shiso Leaves', 'How to Pickle Reduced-Salt Umeboshi'],\n",
        "'e7e10e66d8.jpg':['Wash potatoes to remove dirt.', 'Simmer potatoes in jackets until fully cooked, approximately 30 to 35 minutes.', 'Drain the potatoes and place in a mixing bowl with a paddle attachment.', 'Meanwhile, melt the butter in a heavy gauged sauce pot over a medium heat.', 'Add and blend in the whipping cream.', 'Remove from the heat and reserve.', 'With the mixer on low speed, gradually add the butter-cream liquid to incorporate.', 'Add the sour cream and the steak seasoning.', 'Whip potatoes on medium speed until mashed but some lumps remain.', 'Do not overwhip potatoes.', 'Garnish with fresh chopped chives and serve.'],\n",
        "'e7b2c37c85.jpg':['Preheat oven to 350 degrees F (175 degrees C).', 'In a large bowl, mix together the cake and pudding mixes, sour cream, oil, beaten eggs and water.', 'Stir in the chocolate chips and pour batter into a well greased 12 cup bundt pan.', 'Bake for 50 to 55 minutes, or until top is springy to the touch and a wooden toothpick inserted comes out clean.', 'Cool cake thoroughly in pan at least an hour and a half before inverting onto a plate If desired, dust the cake with powdered sugar.'],\n",
        "'b5be0b054a.jpg':['Cook the rice according to package directions.', 'Meanwhile, in a large nonstick skillet, saute the corn, carrots, peppers, onion and garlic in oil for 6 to 8 minutes or until crisp tender.', 'Stir in the rice, peas and tomatoes; bring to a boil.', 'Reduce heat to low, cover and simmer for 5 minutes or until heated through, stirring occasionally.', 'Add the seasonings; cook 2 to 3 minutes longer.', 'Sprinkle hot sauce to taste.'],\n",
        "'5735ac707c.jpg':['Heat 1 tbsp.', 'oil in large skillet over medium-high heat.', 'Season chicken with Adobo.', 'Cook chicken, flipping once, until golden brown on both sides and cooked through, 5- 7 minutes.', 'Transfer chicken to plate; tent with foil to keep warm.', 'Heat remaining oil in skillet.', 'Add onions and peppers.', 'Cook, stirring, until tender, about 5 minutes.', 'Stir in black beans and corn.', 'Continue cooking until warmed through, about 2 minutes.', 'Remove pan from heat.', 'Stir in avocado, lemon juice and cilantro until combined.', 'Divide chicken among serving plates; top with black bean mixture.', 'Serve warm.'],\n",
        "'43a9c3da7e.jpg':['Preheat the oven to 350 degrees F (175 degrees C).', 'Cut the biscuit dough into quarters and press to cover the bottom of a 9x13 inch baking dish.', 'Place the ground beef into a skillet over medium heat.', 'Cook, stirring to crumble, until no longer pink.', 'Add the onion and bell pepper about halfway through, cooking and stirring until tender.', 'Drain off excess grease and stir in the sloppy Joe sauce.', 'Season with garlic salt and pepper.', 'Pour the mixture over the biscuits and spread to cover evenly.', 'Bake in the preheated oven until the biscuits are cooked through, about 20 minutes.', 'Remove from the oven and sprinkle the cheese on top.', 'Return to the oven until the cheese has melted, about 10 more minutes.'],\n",
        "'c6b596c074.jpg':['Put ice cubes in blender, blend till just crushed.', 'Add rest of ingredients.', 'Blend till combined.'],\n",
        "'87cd378a41.jpg':['Add the sifted dry ingredients, sugar, and salt into a bowl, and mix around and around with a whisk or cooking chopsticks.', 'Add the heavy cream, egg, and dried cranberries, and mix together.', 'Dust the counter with a generous amount of flour, and roll the dough into a ball.', 'Rotate, and then fold several times while flipping, then make into 2 cm thick.', 'Either cut out a shape with a cookie cutter or cut with a knife.', 'Leave the edges as is so that nice layers will appear.', 'Do not fix the shape.', 'Line a baking tray with parchment paper, place the pieces of scone dough, and bake in the oven for 12 ~ 15 minutes at 190C.', 'When lightly browned, they are done.', 'When finished baking, put on a rack to let them cool.', 'You can eat as is.', 'Opening up the nice crevices, and eating with plenty of clotted cream and jam is the English-style.', 'Enjoy with delicious tea.']}"
      ],
      "metadata": {
        "id": "yigjsb_UrGYu"
      },
      "execution_count": 14,
      "outputs": []
    },
    {
      "cell_type": "code",
      "source": [
        "ids=['68df2fc142.jpg','63de829e6c.jpg','87cd378a41.jpg','75b65dfcf4.jpg','1db398fc53.jpg','9db77658ed.jpg','5735ac707c.jpg','c68cea19b5.jpg','eeb173fbde.jpg','17e5ced833.jpg','b5be0b054a.jpg','356c7802c1.jpg','43a9c3da7e.jpg','0e8bec249f.jpg','e7e10e66d8.jpg','d38ed00f48.jpg','c6b596c074.jpg','a865e07984.jpg']"
      ],
      "metadata": {
        "id": "F_5ZAQLPtUcJ"
      },
      "execution_count": 15,
      "outputs": []
    },
    {
      "cell_type": "code",
      "source": [
        "ref_rec[ids[0]]"
      ],
      "metadata": {
        "colab": {
          "base_uri": "https://localhost:8080/"
        },
        "id": "SYx9U8z7u_78",
        "outputId": "6716c858-135c-45fb-cd6f-f6f17ff48733"
      },
      "execution_count": 16,
      "outputs": [
        {
          "output_type": "execute_result",
          "data": {
            "text/plain": [
              "['Dry the red shiso at the same time as drying umeboshi.',\n",
              " 'Put the dried red shiso in a food mill to finely grind it up.',\n",
              " 'How To Preserve Red Shiso Leaves',\n",
              " 'How to Pickle Reduced-Salt Umeboshi']"
            ]
          },
          "metadata": {},
          "execution_count": 16
        }
      ]
    },
    {
      "cell_type": "code",
      "source": [
        "tokenizer.tokenize((' ').join(ref_rec[ids[0]]).lower())"
      ],
      "metadata": {
        "colab": {
          "base_uri": "https://localhost:8080/"
        },
        "id": "1-F-qmmtvPkm",
        "outputId": "5b640bc0-fc9a-479e-e11d-0117772f138a"
      },
      "execution_count": 22,
      "outputs": [
        {
          "output_type": "execute_result",
          "data": {
            "text/plain": [
              "['dry',\n",
              " 'the',\n",
              " 'red',\n",
              " 'shiso',\n",
              " 'at',\n",
              " 'the',\n",
              " 'same',\n",
              " 'time',\n",
              " 'as',\n",
              " 'drying',\n",
              " 'umeboshi',\n",
              " 'put',\n",
              " 'the',\n",
              " 'dried',\n",
              " 'red',\n",
              " 'shiso',\n",
              " 'in',\n",
              " 'a',\n",
              " 'food',\n",
              " 'mill',\n",
              " 'to',\n",
              " 'finely',\n",
              " 'grind',\n",
              " 'it',\n",
              " 'up',\n",
              " 'how',\n",
              " 'to',\n",
              " 'preserve',\n",
              " 'red',\n",
              " 'shiso',\n",
              " 'leaves',\n",
              " 'how',\n",
              " 'to',\n",
              " 'pickle',\n",
              " 'reduced',\n",
              " 'salt',\n",
              " 'umeboshi']"
            ]
          },
          "metadata": {},
          "execution_count": 22
        }
      ]
    },
    {
      "cell_type": "code",
      "source": [
        "tokenizer.tokenize(man_rec[ids[0]].lower())"
      ],
      "metadata": {
        "colab": {
          "base_uri": "https://localhost:8080/"
        },
        "id": "qLdQuccBvonu",
        "outputId": "bd8a6011-abc6-43b7-83d9-41d8d2ea849c"
      },
      "execution_count": 25,
      "outputs": [
        {
          "output_type": "execute_result",
          "data": {
            "text/plain": [
              "['dry',\n",
              " 'the',\n",
              " 'red',\n",
              " 'shiso',\n",
              " 'leaves',\n",
              " 'put',\n",
              " 'the',\n",
              " 'dried',\n",
              " 'red',\n",
              " 'shiso',\n",
              " 'in',\n",
              " 'a',\n",
              " 'grinder',\n",
              " 'put',\n",
              " 'the',\n",
              " 'dried',\n",
              " 'red',\n",
              " 'shiso',\n",
              " 'in',\n",
              " 'a',\n",
              " 'dish']"
            ]
          },
          "metadata": {},
          "execution_count": 25
        }
      ]
    },
    {
      "cell_type": "code",
      "source": [
        "scores=[]\n",
        "for i in range(0,len(ids)):\n",
        "    reference_words = tokenizer.tokenize((' ').join(ref_rec[ids[i]]).lower())\n",
        "    candidate_words = tokenizer.tokenize(man_rec[ids[i]].lower())\n",
        "    reference=[[word for word in reference_words if word not in stopwords.words('english')]]\n",
        "    candidate=[word for word in candidate_words if word not in stopwords.words('english')]\n",
        "    score = sentence_bleu(reference, candidate,weights=(1, 0, 0, 0))\n",
        "    scores.append(score)\n",
        "sum(scores)/30"
      ],
      "metadata": {
        "colab": {
          "base_uri": "https://localhost:8080/"
        },
        "id": "gFKaTTVmvDzr",
        "outputId": "70fbc3db-c0ad-4886-c751-0a4f0886cf4c"
      },
      "execution_count": 32,
      "outputs": [
        {
          "output_type": "execute_result",
          "data": {
            "text/plain": [
              "0.14163246464053442"
            ]
          },
          "metadata": {},
          "execution_count": 32
        }
      ]
    },
    {
      "cell_type": "code",
      "source": [
        "scores=[]\n",
        "for i in range(0,len(ids)):\n",
        "    reference_words = tokenizer.tokenize((' ').join(ref_rec[ids[i]]).lower())\n",
        "    candidate_words = tokenizer.tokenize(man_rec[ids[i]].lower())\n",
        "    reference=[[word for word in reference_words if word not in stopwords.words('english')]]\n",
        "    candidate=[word for word in candidate_words if word not in stopwords.words('english')]\n",
        "    score = sentence_bleu(reference, candidate)\n",
        "    scores.append(score)\n",
        "sum(scores)/30"
      ],
      "metadata": {
        "colab": {
          "base_uri": "https://localhost:8080/"
        },
        "id": "BaCQOrkewDnR",
        "outputId": "8891d6a5-50b7-49c1-8d81-44788fc35f0e"
      },
      "execution_count": 33,
      "outputs": [
        {
          "output_type": "stream",
          "name": "stderr",
          "text": [
            "/usr/local/lib/python3.7/dist-packages/nltk/translate/bleu_score.py:552: UserWarning: \n",
            "The hypothesis contains 0 counts of 4-gram overlaps.\n",
            "Therefore the BLEU score evaluates to 0, independently of\n",
            "how many N-gram overlaps of lower order it contains.\n",
            "Consider using lower n-gram order or use SmoothingFunction()\n",
            "  warnings.warn(_msg)\n",
            "/usr/local/lib/python3.7/dist-packages/nltk/translate/bleu_score.py:552: UserWarning: \n",
            "The hypothesis contains 0 counts of 3-gram overlaps.\n",
            "Therefore the BLEU score evaluates to 0, independently of\n",
            "how many N-gram overlaps of lower order it contains.\n",
            "Consider using lower n-gram order or use SmoothingFunction()\n",
            "  warnings.warn(_msg)\n"
          ]
        },
        {
          "output_type": "execute_result",
          "data": {
            "text/plain": [
              "0.018673472628255104"
            ]
          },
          "metadata": {},
          "execution_count": 33
        }
      ]
    },
    {
      "cell_type": "code",
      "source": [
        "scores=[]\n",
        "for i in range(0,len(ids)):\n",
        "    reference_words = tokenizer.tokenize((' ').join(ref_rec[ids[i]]).lower())\n",
        "    candidate_words = tokenizer.tokenize(man_rec[ids[i]].lower())\n",
        "    reference=[[word for word in reference_words if word not in stopwords.words('english')]]\n",
        "    candidate=[word for word in candidate_words if word not in stopwords.words('english')]\n",
        "    score = sentence_bleu(reference, candidate)\n",
        "    print(score,i)\n",
        "    scores.append(score)\n",
        "sum(scores)/30"
      ],
      "metadata": {
        "colab": {
          "base_uri": "https://localhost:8080/"
        },
        "id": "PGnxYdjSwQ3j",
        "outputId": "f8586dd6-a1ad-418f-a350-fcc19536e5dc"
      },
      "execution_count": 35,
      "outputs": [
        {
          "output_type": "stream",
          "name": "stdout",
          "text": [
            "0.18554954882152527 0\n",
            "0.23595324475242546 1\n",
            "0.021312724652040812 2\n",
            "1.9507752226457762e-78 3\n"
          ]
        },
        {
          "output_type": "stream",
          "name": "stderr",
          "text": [
            "/usr/local/lib/python3.7/dist-packages/nltk/translate/bleu_score.py:552: UserWarning: \n",
            "The hypothesis contains 0 counts of 4-gram overlaps.\n",
            "Therefore the BLEU score evaluates to 0, independently of\n",
            "how many N-gram overlaps of lower order it contains.\n",
            "Consider using lower n-gram order or use SmoothingFunction()\n",
            "  warnings.warn(_msg)\n"
          ]
        },
        {
          "output_type": "stream",
          "name": "stdout",
          "text": [
            "7.393972489511818e-79 4\n",
            "7.391891866490596e-156 5\n",
            "4.476123889574061e-155 6\n"
          ]
        },
        {
          "output_type": "stream",
          "name": "stderr",
          "text": [
            "/usr/local/lib/python3.7/dist-packages/nltk/translate/bleu_score.py:552: UserWarning: \n",
            "The hypothesis contains 0 counts of 3-gram overlaps.\n",
            "Therefore the BLEU score evaluates to 0, independently of\n",
            "how many N-gram overlaps of lower order it contains.\n",
            "Consider using lower n-gram order or use SmoothingFunction()\n",
            "  warnings.warn(_msg)\n"
          ]
        },
        {
          "output_type": "stream",
          "name": "stdout",
          "text": [
            "4.5413697281019075e-155 7\n",
            "0.06172279525189721 8\n",
            "5.728743864420293e-155 9\n",
            "3.4334719002505855e-155 10\n",
            "4.800435440129671e-155 11\n",
            "1.956030150226838e-78 12\n",
            "2.0213037756535265e-78 13\n",
            "2.4190174235281844e-155 14\n",
            "0 15\n",
            "4.266588345230822e-155 16\n",
            "0.05566586536976447 17\n"
          ]
        },
        {
          "output_type": "execute_result",
          "data": {
            "text/plain": [
              "0.018673472628255104"
            ]
          },
          "metadata": {},
          "execution_count": 35
        }
      ]
    },
    {
      "cell_type": "code",
      "source": [],
      "metadata": {
        "id": "Ohyjq7zZw0PY"
      },
      "execution_count": null,
      "outputs": []
    }
  ]
}