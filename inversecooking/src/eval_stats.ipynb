{
 "cells": [
  {
   "cell_type": "code",
   "execution_count": 8,
   "metadata": {},
   "outputs": [],
   "source": [
    "import pickle\n",
    "import numpy as np"
   ]
  },
  {
   "cell_type": "code",
   "execution_count": 2,
   "metadata": {},
   "outputs": [],
   "source": [
    "d = None\n",
    "with open('../checkpoints/inversecooking/model/checkpoints/test_greedy_gencaps.pkl', 'rb') as f:\n",
    "    d = pickle.load(f)"
   ]
  },
  {
   "cell_type": "code",
   "execution_count": 10,
   "metadata": {},
   "outputs": [],
   "source": [
    "mean_iou = np.mean(list(d['ingr_iou'].values()))"
   ]
  },
  {
   "cell_type": "code",
   "execution_count": 11,
   "metadata": {},
   "outputs": [
    {
     "data": {
      "text/plain": [
       "0.2536569895582501"
      ]
     },
     "execution_count": 11,
     "metadata": {},
     "output_type": "execute_result"
    }
   ],
   "source": [
    "mean_iou"
   ]
  },
  {
   "cell_type": "code",
   "execution_count": null,
   "metadata": {},
   "outputs": [],
   "source": []
  },
  {
   "cell_type": "code",
   "execution_count": 7,
   "metadata": {},
   "outputs": [
    {
     "data": {
      "text/plain": [
       "[array([ 631,  396,    2,    3,   26,    6,   27,   28,   29,   30,   31,\n",
       "          28,   32,   33,    9,    2,   60,  263,   49,   50,   51,  113,\n",
       "         258,    9,    2,   11,   49,   74,   75,   14,  109,  102,   12,\n",
       "          38,   14,  187,  114,   14,  472,   14,  186,  114,   14,  246,\n",
       "          14,   17,  127,    9,    2,   11,   49,   74,   75,   14,  109,\n",
       "         102,   12,  396,   14,  631,   14,  186,   14,  187,   14,   17,\n",
       "         516,   15,    9,    2,  178,   12,   48,   82,   12,  512,  113,\n",
       "         258,    9,    2,   53,   11,   12,  383,   26,   55,  585,   57,\n",
       "          14,   92,   21,   12,  396,  237,  408,  409,  410,   11,   12,\n",
       "         411,    9,    2,    1,   12,  576,   95,  446,  135,   93,    9,\n",
       "           2,    1,   12,  576,   95,  446,  135,   93,    9,    2,    1,\n",
       "          12,  576,  258,    9,    2,    1,  631, 2758,   14,   17,  470,\n",
       "         823,    9,    2,    1,   12,  631,   48,    9,    2,    1,   12,\n",
       "         576,  258,    9,    2,    1,   12,  576])]"
      ]
     },
     "execution_count": 7,
     "metadata": {},
     "output_type": "execute_result"
    }
   ],
   "source": [
    "d['recipes']['000875a149']"
   ]
  }
 ],
 "metadata": {
  "kernelspec": {
   "display_name": "Python 3.9.13 ('pytorch')",
   "language": "python",
   "name": "python3"
  },
  "language_info": {
   "codemirror_mode": {
    "name": "ipython",
    "version": 3
   },
   "file_extension": ".py",
   "mimetype": "text/x-python",
   "name": "python",
   "nbconvert_exporter": "python",
   "pygments_lexer": "ipython3",
   "version": "3.9.13"
  },
  "orig_nbformat": 4,
  "vscode": {
   "interpreter": {
    "hash": "2d58e898dde0263bc564c6968b04150abacfd33eed9b19aaa8e45c040360e146"
   }
  }
 },
 "nbformat": 4,
 "nbformat_minor": 2
}
