{
 "cells": [
  {
   "cell_type": "code",
   "execution_count": 1,
   "id": "ca6c956b",
   "metadata": {},
   "outputs": [],
   "source": [
    "import json\n",
    "import re\n",
    "import gensim\n",
    "import gensim.models.keyedvectors as word2vec\n",
    "from gensim.parsing.preprocessing import remove_stopwords\n",
    "from sklearn.decomposition import PCA\n",
    "from sklearn.cluster import KMeans\n",
    "import numpy as np\n",
    "import matplotlib.pyplot as plt\n",
    "import nltk\n",
    "# from transformers import BertTokenizer, BertModel\n",
    "from sentence_transformers import SentenceTransformer"
   ]
  },
  {
   "cell_type": "code",
   "execution_count": 2,
   "id": "d767a7f8",
   "metadata": {},
   "outputs": [],
   "source": [
    "# tokenizer = BertTokenizer.from_pretrained(\"bert-base-uncased\")\n",
    "# model = BertModel.from_pretrained(\"bert-base-uncased\")\n",
    "model = SentenceTransformer('all-MiniLM-L6-v2')"
   ]
  },
  {
   "cell_type": "code",
   "execution_count": 3,
   "id": "3da7a355",
   "metadata": {},
   "outputs": [],
   "source": [
    "sentences = [['sugar', 'salt', 'flour'], ['sugar', 'salt', 'flour']]"
   ]
  },
  {
   "cell_type": "code",
   "execution_count": 4,
   "id": "739e4cc0",
   "metadata": {},
   "outputs": [
    {
     "name": "stdout",
     "output_type": "stream",
     "text": [
      "51235\n"
     ]
    }
   ],
   "source": [
    "f = open('recipes_with_nutritional_info.json')\n",
    "  \n",
    "data = json.load(f)\n",
    "print(len(data))"
   ]
  },
  {
   "cell_type": "code",
   "execution_count": 5,
   "id": "b2f0f3e2",
   "metadata": {},
   "outputs": [],
   "source": [
    "recipe_list = []\n",
    "for i in range(len(data)):\n",
    "    temp = ''\n",
    "    for j in range(len(data[i]['instructions'])):\n",
    "        if (j == 0):\n",
    "            temp = data[i]['instructions'][j]['text']\n",
    "        else:\n",
    "            temp = temp + ' ' + data[i]['instructions'][j]['text']\n",
    "\n",
    "    temp = re.sub(r'[^\\w\\s]', '', temp)\n",
    "\n",
    "    temp = remove_stopwords(temp)\n",
    "#     print(temp)\n",
    "    recipe_list.append(temp)"
   ]
  },
  {
   "cell_type": "code",
   "execution_count": 6,
   "id": "d328d8bc",
   "metadata": {},
   "outputs": [
    {
     "data": {
      "text/plain": [
       "'Layer ingredients serving dish'"
      ]
     },
     "execution_count": 6,
     "metadata": {},
     "output_type": "execute_result"
    }
   ],
   "source": [
    "recipe_list = np.array(recipe_list)\n",
    "recipe_list[0]"
   ]
  },
  {
   "cell_type": "code",
   "execution_count": 7,
   "id": "bb7f6ca9",
   "metadata": {},
   "outputs": [],
   "source": [
    "def get_bert_embeddings(recipes):\n",
    "    vec = model.encode(recipes)\n",
    "    return vec"
   ]
  },
  {
   "cell_type": "code",
   "execution_count": 8,
   "id": "270e9498",
   "metadata": {},
   "outputs": [
    {
     "name": "stdout",
     "output_type": "stream",
     "text": [
      "(1000, 384)\n"
     ]
    }
   ],
   "source": [
    "all_embeddings = get_bert_embeddings(recipe_list[:10000])\n",
    "print(all_embeddings.shape)"
   ]
  },
  {
   "cell_type": "code",
   "execution_count": 9,
   "id": "60e7c425",
   "metadata": {},
   "outputs": [
    {
     "data": {
      "text/plain": [
       "(1000, 2)"
      ]
     },
     "execution_count": 9,
     "metadata": {},
     "output_type": "execute_result"
    }
   ],
   "source": [
    "pca = PCA(2)\n",
    "df = pca.fit_transform(all_embeddings)\n",
    "df.shape"
   ]
  },
  {
   "cell_type": "code",
   "execution_count": 10,
   "id": "7797052d",
   "metadata": {},
   "outputs": [
    {
     "data": {
      "text/plain": [
       "array([[ 0.17621034,  0.14765915],\n",
       "       [-0.21311437, -0.23468845],\n",
       "       [-0.27267215,  0.27634388],\n",
       "       ...,\n",
       "       [ 0.25004455, -0.19907837],\n",
       "       [ 0.3942935 , -0.10465328],\n",
       "       [-0.1015801 , -0.12253866]], dtype=float32)"
      ]
     },
     "execution_count": 10,
     "metadata": {},
     "output_type": "execute_result"
    }
   ],
   "source": [
    "df"
   ]
  },
  {
   "cell_type": "code",
   "execution_count": 11,
   "id": "680e6c1b",
   "metadata": {},
   "outputs": [
    {
     "name": "stdout",
     "output_type": "stream",
     "text": [
      "[3 0 2 3 4 3 1 0 0 2 2 2 4 0 2 2 3 2 4 1 4 0 3 4 1 0 3 3 0 2 4 3 4 0 0 0 3\n",
      " 1 3 1 4 1 0 0 0 0 4 2 3 1 2 0 0 1 4 4 0 4 2 2 2 1 4 3 3 0 1 2 0 3 0 3 1 4\n",
      " 4 3 2 0 2 0 4 1 2 1 0 0 2 0 2 0 1 1 3 3 0 1 0 0 3 2 3 0 2 0 1 4 3 3 4 1 1\n",
      " 2 0 0 2 1 0 2 4 0 4 4 4 1 3 4 1 1 0 4 4 3 1 4 0 0 4 0 1 0 1 0 1 0 0 0 0 2\n",
      " 2 1 2 1 2 2 1 0 4 1 3 3 1 3 4 2 3 2 4 0 4 2 0 3 4 1 1 3 1 0 1 3 3 3 3 4 0\n",
      " 4 1 2 0 1 1 3 1 1 2 4 0 3 1 3 0 0 2 0 0 3 0 2 2 3 3 4 3 2 4 0 0 0 0 2 0 3\n",
      " 3 0 0 2 1 4 4 2 1 2 3 4 2 3 4 0 2 2 2 2 3 1 4 4 3 0 1 2 1 0 3 1 1 3 2 0 0\n",
      " 0 2 4 0 2 4 1 0 3 2 2 1 1 1 1 0 1 4 0 2 2 4 0 2 0 0 3 2 1 2 2 3 0 0 3 3 1\n",
      " 0 1 4 3 0 3 3 2 4 0 2 1 3 2 2 3 2 4 2 2 1 2 1 3 2 2 0 4 3 3 3 3 0 3 2 2 4\n",
      " 1 0 1 0 0 2 0 4 0 3 3 1 2 1 0 1 2 0 2 0 3 3 1 2 0 1 3 1 0 4 1 2 4 3 1 1 0\n",
      " 1 1 0 0 3 2 0 0 0 4 1 0 1 2 4 1 0 0 1 4 2 2 1 0 3 3 3 1 1 1 1 3 3 2 2 2 4\n",
      " 2 2 1 0 0 2 2 0 0 0 1 3 0 4 2 1 1 2 4 2 0 3 3 3 1 0 1 4 3 0 0 2 1 0 2 0 3\n",
      " 2 1 2 1 1 1 0 4 2 0 2 2 1 3 3 3 3 3 2 0 3 2 0 2 3 0 0 3 3 3 0 1 0 3 0 0 3\n",
      " 0 4 2 3 3 4 0 1 2 0 2 0 1 0 4 3 3 2 0 3 3 1 4 4 4 4 2 4 0 0 3 4 4 0 3 1 0\n",
      " 1 4 4 2 3 0 1 1 2 3 0 1 0 2 3 0 1 1 4 4 2 3 0 3 4 2 0 1 0 1 2 2 3 4 2 1 4\n",
      " 3 4 2 1 3 2 1 2 2 0 0 4 2 1 0 3 4 2 2 0 0 4 3 1 2 2 4 0 0 0 3 0 2 2 2 3 3\n",
      " 1 1 3 4 1 0 4 4 1 3 2 3 2 1 3 0 0 2 4 4 3 0 4 2 4 3 0 0 3 2 4 4 2 2 4 1 0\n",
      " 4 2 0 1 3 4 4 3 3 1 3 2 1 3 2 0 4 0 2 2 1 0 1 1 3 3 0 4 4 3 2 3 4 3 1 3 3\n",
      " 0 4 3 3 0 2 3 1 0 0 4 2 1 2 1 1 3 2 0 1 2 2 1 0 4 0 0 3 3 2 3 3 2 4 0 4 0\n",
      " 2 0 4 2 3 1 4 3 2 3 3 0 1 2 4 1 1 3 2 0 0 1 1 0 4 4 4 2 2 0 1 2 4 2 2 3 2\n",
      " 2 4 3 3 2 0 0 3 0 1 4 0 1 2 0 3 2 4 3 1 3 2 0 2 4 1 0 2 4 2 0 2 1 0 3 1 0\n",
      " 1 0 3 0 1 3 2 0 4 2 4 3 3 3 4 3 0 2 2 1 2 4 2 1 0 1 0 1 2 1 1 0 2 3 1 3 0\n",
      " 2 1 2 3 1 0 4 0 1 2 1 2 4 1 0 0 3 1 3 0 1 2 0 0 2 0 3 0 3 1 0 0 1 3 1 1 1\n",
      " 3 2 1 2 2 3 0 3 2 2 0 0 3 3 1 0 1 0 4 1 3 3 2 1 2 0 4 0 3 2 2 3 4 3 0 4 0\n",
      " 4 0 3 0 0 1 3 2 4 3 1 2 4 2 1 4 1 2 3 1 2 3 4 2 3 1 4 2 4 1 0 2 3 0 4 1 1\n",
      " 1 1 2 2 3 4 3 1 3 0 4 0 0 0 1 0 1 3 4 4 1 2 2 0 0 0 0 0 0 2 2 3 0 1 2 1 4\n",
      " 0 3 0 1 4 1 1 0 0 2 4 0 1 0 1 4 4 3 0 4 4 0 3 3 2 3 0 2 1 4 0 2 4 4 2 1 1\n",
      " 4]\n"
     ]
    }
   ],
   "source": [
    "kmeans = KMeans(n_clusters = 5)\n",
    "label = kmeans.fit_predict(df)\n",
    " \n",
    "print(label)"
   ]
  },
  {
   "cell_type": "code",
   "execution_count": 12,
   "id": "e66e2173",
   "metadata": {},
   "outputs": [
    {
     "name": "stdout",
     "output_type": "stream",
     "text": [
      "4 0006ca31f4 Natural Peanut Butter Chocolate Bon Bons\n",
      "4 000b630b44 Fudgy Chocolate Cherry Float\n",
      "4 0014d451fe Sugar Free Pudge-less Brownies\n",
      "4 0017898fda Peanut Butter Fudge Frosting\n",
      "4 0018448ab8 Barbeque Brisket Rub\n",
      "4 00203e2b66 Swedish Butter Cookies\n",
      "4 0023b306e6 Two-Tone Chocolate Pudding Cups\n",
      "4 002e56d273 Peanut Brittle\n",
      "4 00388f89d8 Oatmeal Lace Cookies\n",
      "4 003d041add Chocolate Krispy Bars Recipe\n",
      "4 003d7452e3 Caramel-Fudge Sauce\n",
      "4 003fa596a9 Low Fat Peanut Butter Chocolate Crunch Bars\n",
      "4 00451d4108 White Chocolate Cherry Toffee Popcorn\n",
      "4 0056d1148d Homemade Ice Magic\n",
      "4 0057bc5426 Baked Cheesecake\n",
      "4 005e671ac4 Pecan Pralines\n",
      "4 007271d002 Decadent Vegan Dark- Choco Brownies\n",
      "4 007405f60d Luscious Luau\n",
      "4 00838e89d2 Gooey Peanut Butter Chew\n",
      "4 008884f6c2 Pumpkin Spice Ganache\n",
      "4 008c1cf98b Semolina Pudding (Parsi Ravo)\n",
      "4 008d809af0 Honey Oatmeal Bread (Abm)\n",
      "4 008edda9b8 Bacon Crunch Bars\n",
      "4 00914f889b Easy Bake Oven Angel Cookies\n",
      "4 0092e66a51 Fruity Rice Krispie Treats / Squares - Kids No Bake\n",
      "4 0095610c25 Crock Pot Candy\n",
      "4 009681dfbb Chocolate Brittle\n",
      "4 00a8bce22c Apricot Strudel\n",
      "4 00b6419e59 Peanut Butter Pots de Creme\n",
      "4 00b892a4b6 Eggless Crepe for Egg Allergies\n",
      "4 00bb62aaad Freezer Sweet Corn\n",
      "4 00c086384a Perfectly Chocolate Hershey's Hot Cocoa\n",
      "4 00cd7e9969 Basil Cheese Torte\n",
      "4 00d1d3b376 Chocolate Peanut Clusters\n",
      "4 00dbb2ce0d Mexican Hot Chocolate - 4 Ww Points\n",
      "4 00f700801b My Gingernut Biscuits/Cookies\n",
      "4 00fe1ce51e Besan Barfee Recipe\n",
      "4 010bb634a9 No Bake Granola Balls\n",
      "4 010c0020af Applesauce Cake (Ob'l Dunkes Kucka) Recipe\n",
      "4 0116fb2eac Peanut Butter Chocolate Chip Cookie Dough Dip\n",
      "4 011dd5932d Best Buttercream Frosting Recipe\n",
      "4 01266c7458 White Chocolate Macadamia Nut Bark\n",
      "4 01267207f6 Incredible Butter Substitute\n",
      "4 013b62ea2c Sport and Misty's Horse Cookies\n",
      "4 01431bbf7a Caramel Butter Sauce\n",
      "4 0153e597a6 No Bake Snack Mix\n",
      "4 015e49f0d3 Winter Crunch Bark\n",
      "4 0173b42b38 Hester's Red Velvet Cake Icing\n",
      "4 0176b66bfc Chocolate Chip Ice Cream Pie\n",
      "4 017fe6288c Almond Crescents\n",
      "4 018f15060d Honey Cream Cheese Spread\n",
      "4 0197377607 The Fairway Cafe's Mitchell London Hot Chocolate\n",
      "4 01a0a8ed71 Vanilla or Chocolate Buttercream\n",
      "4 01c3e826e4 Tropical Peanut Squares\n",
      "4 01c5801d7a Cinnamon Stove Top Granola\n",
      "4 01e2c30845 Chocolate Caramel Sauce\n",
      "4 01e80fc49d Salted Bittersweet Fudge with Toasted Walnuts\n",
      "4 01ee7e3ddc Orange Creamsicle Protein Balls\n",
      "4 02015c65fe Classic Cheese Log\n",
      "4 0210f5b683 Pecan Pie Brittle\n",
      "4 0217e62bc4 Aunt Kay's Peanut Butter Fudge\n",
      "4 0221bf668d Blood Orange Granita\n",
      "4 022fc7e05a Chocolate Cashew Spread\n",
      "4 0262caa0e7 Chocolate Chip Date Picnic Cake Recipe\n",
      "4 0267591c6c Magic Ginger Cake\n",
      "4 027750caf1 Simple Vegan Blueberry Pancakes\n",
      "4 0280375ca5 Cinnamon Honey Fruit Gratin\n",
      "4 02845d2e10 Currant Griddle Scones\n",
      "4 028483d841 Potato Bread Starter Recipe\n",
      "4 0284b5224a Onion & Garlic Popcorn\n",
      "4 0288475589 Brown Sugar Glaze\n",
      "4 028e4a6828 Lemon Granita\n",
      "4 0290116196 Easy Basic Pancake (:\n",
      "4 0295103d74 Bunuelos With Orange Syrup\n",
      "4 02953cdca2 Bread Machine Cranberry Cornmeal Bread\n",
      "4 02a680178e Make Your Own Boursin Cheese - Paula Deen\n",
      "4 02a7403722 Plain Pastry (Pate Brisee)\n",
      "4 02ac71ddf5 2-Minute Eggless Microwave Chocolate Cake\n",
      "4 02b8cdfc40 White-Wheat Bread for the Bread Machine\n",
      "4 02bc877b38 Mock Scones with Tofu and Pancake Mix For Dieters\n",
      "4 02be6d7449 Johnny Iuzzini's Chocolate Soup\n",
      "4 02c51895de Cola Cake (3 ingredients)\n",
      "4 02cb7e93a8 Flax and Sunflower Seed Bread - Abm\n",
      "4 02cecc3346 Salted Caramel Sauce\n",
      "4 02d2a03232 Raisin Bran with Almonds\n",
      "4 02e3b729e9 Caramel Pecan Marshmallows Recipe\n",
      "4 02eaa541b9 Bleu Shew Truffles\n",
      "4 02ed5e9168 Wilton's Chocolate Buttercream Icing, Decorator Icing/Frosting\n",
      "4 02f6a847be Chocolate Truffles\n",
      "4 02f9cb27e8 Soy Biscuits\n",
      "4 02fe39b9d1 Homemade Nutella\n",
      "4 02fec9cdb0 Colonel Sanders' Kentucky Whipped Butter\n",
      "4 0307780d2b Monkey Mix\n",
      "4 030846aeb8 Oatmeal Cookies\n",
      "4 030ae71300 Italian Wheat Bread With Pesto\n",
      "4 030de10ff5 Double Chocolate Mexican Brownie Pancakes\n",
      "4 0316c6a100 Strawberry Shots\n",
      "4 03171f476d Brittes Chocolate Cake Recipe\n",
      "4 0323e1dba6 Baked Cranberry Oatmeal\n",
      "4 03312bac9d A Bucket of Bran Muffins\n",
      "4 0332c27f27 Baked Onion Dip Recipe\n",
      "4 0337053df8 Rolls\n",
      "4 033a097cb0 Peanut Butter Nuggets\n",
      "4 03485d21ef Mint Chocolate Ice Cream Cake\n",
      "4 03591ea205 Chocolate Pizza\n",
      "4 036185d351 Salt and Pepper Chocolate\n",
      "4 0362f79c3f Cranberry Cinnamon Bread (Bread Machine)\n",
      "4 036885c476 Easy Mexican Bread Pudding\n",
      "4 036e0ca53a Christmas Crack (aka Clodhoppers)\n",
      "4 037d28519c Caramel Corn\n",
      "4 038ec8dfde Rice Flour Pancakes\n",
      "4 038ff4d066 Sea Salt and Honey Almond Butter\n",
      "4 0390b6c6d5 Chocolate Rock\n",
      "4 0399a4a543 Almond Splinters\n",
      "4 03a0a953aa Jamaican Ginger Pralines\n",
      "4 03a47e52df Date Roll Candy\n",
      "4 03a8570847 Puppy Chow\n",
      "4 03ae471bc4 Candied Pecans Recipe\n",
      "4 03b2f000cd Basic Sugar Glaze\n",
      "4 03c5d44a11 Vegan Nutella\n",
      "4 03c7fd3ea5 Peanut Butter Fudge Sauce\n",
      "4 03d05c625c Simple Whole Wheat Bread\n",
      "4 03d3df1aa6 Lemonade Scones (Australian)\n",
      "4 03e85e26ce Chocolate Crispy Bites\n",
      "4 03f1304925 Basic French Dough Recipe\n",
      "4 0421828c61 Icelandic Skyr\n",
      "4 042c6ef14c Cream Cheese Frosting / Icing for Cookies\n",
      "4 043b325041 Grape Dumplings\n",
      "4 0441562424 Raspberry Truffles\n",
      "4 0444d47e62 Chocolate Caramel Oatmeal Bars\n",
      "4 0450a09cce Sausage Balls\n",
      "4 0457f4a3c2 Marshmallow Goof Balls\n",
      "4 045c8f7217 Homemade Light Pudding\n",
      "4 0464fb94f5 Best Ever Strawberry Pie Recipe\n",
      "4 046ad67a9f Caramel Topped Cranberry Streusel Squares\n",
      "4 046da9d8c8 Graham Crust\n",
      "4 0474d6ce6a Oat Bread for Bread Machine\n",
      "4 04807109f4 Fruit Jewels (Pate De Fruit)\n",
      "4 04828b1981 Dark Chocolate Almond Clusters\n",
      "4 048e419f5c Perfect Bread Machine Spelt Bread\n",
      "4 04904618b5 Cottage Cheese Rolls\n",
      "4 04a4db464e Water Chestnut Cake\n",
      "4 04adac998e Oatmeal Orange-Nut Cookies\n",
      "4 04b63bdc75 White Candy Fantasy Clusters\n",
      "4 04beddff71 Red pepper chocolate truffles recipe\n",
      "4 04bf1ec9ed Honey Roasted Peanuts\n",
      "4 04c0ddd496 Easy Oil Pie Crust\n",
      "4 04c1b96c5a Vanilla Sauce\n",
      "4 04c8af44ea Butter, Cultured\n",
      "4 04ca980793 Oatmeal Molasses Bread (Abm Bread Machine)\n",
      "4 04caedbfcc Cherry Slump\n",
      "4 04cfb694eb Three Chocolate Covered Strawberries\n"
     ]
    }
   ],
   "source": [
    "for i in range(len(label)):\n",
    "    if(label[i] == 4):\n",
    "        print(label[i], data[i]['id'], data[i]['title'])\n",
    "#         print(label[i], data[i]['id'], data[i]['title'], recipe_list[i][:100])"
   ]
  },
  {
   "cell_type": "code",
   "execution_count": 13,
   "id": "fc202900",
   "metadata": {},
   "outputs": [
    {
     "name": "stdout",
     "output_type": "stream",
     "text": [
      "[[ 0.17621034  0.14765915]\n",
      " [-0.21311437 -0.23468845]\n",
      " [-0.27267215  0.27634388]\n",
      " ...\n",
      " [ 0.25004455 -0.19907837]\n",
      " [ 0.3942935  -0.10465328]\n",
      " [-0.1015801  -0.12253866]]\n"
     ]
    },
    {
     "data": {
      "image/png": "[encoded data removed]",
      "text/plain": [
       "<Figure size 450x360 with 1 Axes>"
      ]
     },
     "metadata": {
      "needs_background": "light"
     },
     "output_type": "display_data"
    }
   ],
   "source": [
    "centroids = kmeans.cluster_centers_\n",
    "\n",
    "#Getting unique labels\n",
    "u_labels = np.unique(label)\n",
    " \n",
    "#plotting the results:\n",
    " \n",
    "for i in u_labels:\n",
    "    plt.scatter(df[label == i , 0] , df[label == i , 1] , label = 'cluster'+str(i+1), s = 5)\n",
    "print(df)\n",
    "plt.title('Clustering Recipe BERT Embeddings')\n",
    "fig = plt.gcf()\n",
    "fig.set_size_inches(6.25, 5.0)\n",
    "\n",
    "plt.scatter(centroids[:,0] , centroids[:,1] , s = 20, color = 'k')\n",
    "plt.legend()\n",
    "plt.show()"
   ]
  },
  {
   "cell_type": "code",
   "execution_count": null,
   "id": "5e340117",
   "metadata": {},
   "outputs": [],
   "source": []
  }
 ],
 "metadata": {
  "kernelspec": {
   "display_name": "Python 3 (ipykernel)",
   "language": "python",
   "name": "python3"
  },
  "language_info": {
   "codemirror_mode": {
    "name": "ipython",
    "version": 3
   },
   "file_extension": ".py",
   "mimetype": "text/x-python",
   "name": "python",
   "nbconvert_exporter": "python",
   "pygments_lexer": "ipython3",
   "version": "3.8.9"
  }
 },
 "nbformat": 4,
 "nbformat_minor": 5
}
